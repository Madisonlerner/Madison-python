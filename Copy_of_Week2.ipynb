{
  "nbformat": 4,
  "nbformat_minor": 0,
  "metadata": {
    "colab": {
      "provenance": []
    },
    "kernelspec": {
      "name": "python3",
      "display_name": "Python 3"
    },
    "language_info": {
      "name": "python"
    }
  },
  "cells": [
    {
      "cell_type": "markdown",
      "source": [
        "#### Last couple of features of lists before we proceed to conditional statements"
      ],
      "metadata": {
        "id": "eAW3uS5Rofvi"
      }
    },
    {
      "cell_type": "code",
      "source": [
        "# range() is a function that generates a sequence of numbers\n",
        "\n",
        "nums = list(range(5))\n",
        "print(nums)\n",
        "\n",
        "nums1 = list(range(5,16))\n",
        "print(\"\\nThis is the second list\", nums1)\n",
        "\n",
        "nums2 = list(range(0,100,10))\n",
        "print(\"\\nThis is the third list\", nums2)"
      ],
      "metadata": {
        "colab": {
          "base_uri": "https://localhost:8080/"
        },
        "id": "bx6dgLNgoey5",
        "outputId": "ea13a3d8-9b25-4aa8-e588-cd082224f7f0"
      },
      "execution_count": null,
      "outputs": [
        {
          "output_type": "stream",
          "name": "stdout",
          "text": [
            "[0, 1, 2, 3, 4]\n",
            "\n",
            "This is the second list [5, 6, 7, 8, 9, 10, 11, 12, 13, 14, 15]\n",
            "\n",
            "This is the third list [0, 10, 20, 30, 40, 50, 60, 70, 80, 90]\n"
          ]
        }
      ]
    },
    {
      "cell_type": "markdown",
      "source": [
        "### Slicing Lists"
      ],
      "metadata": {
        "id": "NQEcSOQPrhqK"
      }
    },
    {
      "cell_type": "code",
      "source": [
        "nums = list(range(0,100,5))\n",
        "print(\"Original list: \", nums)\n",
        "print('\\nFirst 3 elements of list:', nums[0:3]) # print 0,1,2 index. Upto 3, not including 3.\n",
        "print('\\nEverything 4th element onwards:', nums[4:])\n",
        "print('\\nLast item of list:', nums[-1])\n",
        "print('\\nBackwards list smun:', nums[::-1])\n",
        "print('\\nFirst up till 5th element with step-size 2:', nums[1:5:2])"
      ],
      "metadata": {
        "colab": {
          "base_uri": "https://localhost:8080/"
        },
        "id": "AEQQVHO9pTDZ",
        "outputId": "25a7c936-aa82-43a3-ab34-88abb6af8784"
      },
      "execution_count": null,
      "outputs": [
        {
          "output_type": "stream",
          "name": "stdout",
          "text": [
            "Original list:  [0, 5, 10, 15, 20, 25, 30, 35, 40, 45, 50, 55, 60, 65, 70, 75, 80, 85, 90, 95]\n",
            "\n",
            "First 3 elements of list: [0, 5, 10]\n",
            "\n",
            "Everything 4th element onwards: [20, 25, 30, 35, 40, 45, 50, 55, 60, 65, 70, 75, 80, 85, 90, 95]\n",
            "\n",
            "Last item of list: 95\n",
            "\n",
            "Backwards list smun: [95, 90, 85, 80, 75, 70, 65, 60, 55, 50, 45, 40, 35, 30, 25, 20, 15, 10, 5, 0]\n",
            "\n",
            "First up till 5th element with step-size 2: [5, 15]\n"
          ]
        }
      ]
    },
    {
      "cell_type": "markdown",
      "source": [
        "## Conditional Statements, Looping"
      ],
      "metadata": {
        "id": "ORa1EpDTz9Wb"
      }
    },
    {
      "cell_type": "code",
      "execution_count": null,
      "metadata": {
        "id": "qjvFQuHmz20-",
        "colab": {
          "base_uri": "https://localhost:8080/"
        },
        "outputId": "5ac51684-5159-4282-d311-7f3abdbfe7c6"
      },
      "outputs": [
        {
          "output_type": "stream",
          "name": "stdout",
          "text": [
            "The Zen of Python, by Tim Peters\n",
            "\n",
            "Beautiful is better than ugly.\n",
            "Explicit is better than implicit.\n",
            "Simple is better than complex.\n",
            "Complex is better than complicated.\n",
            "Flat is better than nested.\n",
            "Sparse is better than dense.\n",
            "Readability counts.\n",
            "Special cases aren't special enough to break the rules.\n",
            "Although practicality beats purity.\n",
            "Errors should never pass silently.\n",
            "Unless explicitly silenced.\n",
            "In the face of ambiguity, refuse the temptation to guess.\n",
            "There should be one-- and preferably only one --obvious way to do it.\n",
            "Although that way may not be obvious at first unless you're Dutch.\n",
            "Now is better than never.\n",
            "Although never is often better than *right* now.\n",
            "If the implementation is hard to explain, it's a bad idea.\n",
            "If the implementation is easy to explain, it may be a good idea.\n",
            "Namespaces are one honking great idea -- let's do more of those!\n"
          ]
        }
      ],
      "source": [
        "'''The BDFL (Benevolent Dictator for Life) has a good sense of humor. Each package that you install needs to be imported before you can use it.\n",
        "# Look what happens when you import a package called 'this'. It prints the Zen of Python - a rulebook for writing IF statements'''\n",
        "\n",
        "import this"
      ]
    },
    {
      "cell_type": "markdown",
      "source": [
        "## Let us start with IF loops.\n",
        "\n",
        "Before that, we need to understand Indentation in Python\n",
        "\n",
        "Indentation has a very specific role in Python and is important!\n",
        "\n",
        "It is used as alternative to parenthesis, and getting it wrong will cause errors.\n",
        "IF Statements and Indentation\n",
        "- The syntax for control structures in Python use _colons_ and _indentation_."
      ],
      "metadata": {
        "id": "6vChUFZQSrk7"
      }
    },
    {
      "cell_type": "markdown",
      "source": [
        "\n",
        "```\n",
        "# This is formatted as code\n",
        "\n",
        "if condition1:\n",
        "  do something\n",
        "elif condition2:\n",
        "  do something else\n",
        "else:\n",
        "  do this last thing\n",
        "```\n",
        "\n",
        "\n"
      ],
      "metadata": {
        "id": "DZwXfQkHqCMN"
      }
    },
    {
      "cell_type": "code",
      "source": [
        "y = -2\n",
        "x = 10\n",
        "if x > 0:\n",
        "    print ('x is strictly positive')\n",
        "    print (x)\n",
        "# print ('Finished.', x, y)\n",
        "\n",
        "if y < 0:\n",
        "    print ('y is strictly negative, its value is: ', y)\n",
        "    print (y)"
      ],
      "metadata": {
        "colab": {
          "base_uri": "https://localhost:8080/"
        },
        "id": "6Rjygzf90TG_",
        "outputId": "c9cefc25-ee8e-400a-d98b-9e53f037a7ac"
      },
      "execution_count": null,
      "outputs": [
        {
          "output_type": "stream",
          "name": "stdout",
          "text": [
            "x is strictly positive\n",
            "10\n",
            "y is strictly negative, its value is:  -2\n",
            "-2\n"
          ]
        }
      ]
    },
    {
      "cell_type": "code",
      "source": [
        "print(\"What is the temperature outside?\")\n",
        "temperature = int(input())\n",
        "\n",
        "if temperature < -10 or temperature > 30:\n",
        "    print(\"Extreme weather of\", temperature, \"degrees Celsius\")\n",
        "\n",
        "print(\"What is the price of this item?\")\n",
        "value = int(input())\n",
        "\n",
        "if not value > 10:\n",
        "    print(\"value not greater than 10\")\n",
        "\n",
        "print(\"What is your age?\")\n",
        "age = int(input())\n",
        "\n",
        "print(\"What country do you belong to?\")\n",
        "country = input()\n",
        "\n",
        "if int(age) >= 18 and country == \"Germany\":\n",
        "    print(\"You may drink alcohol\")"
      ],
      "metadata": {
        "colab": {
          "base_uri": "https://localhost:8080/"
        },
        "id": "O9HcHjyVFuX5",
        "outputId": "ece581ab-4d41-4181-b4a9-5fa1125a8b95"
      },
      "execution_count": null,
      "outputs": [
        {
          "name": "stdout",
          "output_type": "stream",
          "text": [
            "What is the temperature outside?\n",
            "5\n",
            "What is the price of this item?\n",
            "7\n",
            "value not greater than 10\n",
            "What is your age?\n",
            "19\n",
            "What country do you belong to?\n",
            "usa\n"
          ]
        }
      ]
    },
    {
      "cell_type": "code",
      "source": [
        "# print the price of eggs as $5 if you live in New York state and it is currently winter season\n",
        "\n",
        "state = input()\n",
        "season = input()\n",
        "\n",
        "if state == \"New York\" and season == \"winter\":\n",
        "    print(\"Price of eggs: $5\")"
      ],
      "metadata": {
        "colab": {
          "base_uri": "https://localhost:8080/"
        },
        "id": "d3vWAVKNBqlY",
        "outputId": "3a203ff9-6f6b-4afa-f633-92919471489c"
      },
      "execution_count": null,
      "outputs": [
        {
          "output_type": "stream",
          "name": "stdout",
          "text": [
            "New York\n",
            "winter\n",
            "Price of eggs: $5\n"
          ]
        }
      ]
    },
    {
      "cell_type": "markdown",
      "source": [
        "## Conditional Statements\n",
        "\n",
        "- `if` statements enable logic.\n",
        "- `elif` give additional conditions.\n",
        "- `else` gives what to do if other conditions are not met."
      ],
      "metadata": {
        "id": "HPzNwehsT4PZ"
      }
    },
    {
      "cell_type": "code",
      "source": [
        "purchase = float(input(\"Price at which you purchased bitcoin: \"))\n",
        "current = float (input (\"Current price of bitcoin: \"))\n",
        "\n",
        "if current < purchase*1.2 and current >= purchase:\n",
        "  print(\"Consider holding on a bit longer as your profit is only \", current - purchase,  \"$ per bitcoin.\")\n",
        "elif current >= purchase*1.2:\n",
        "  print(\"Worth selling as you will make\", current - purchase, \"$ per bitcoin.\")\n",
        "else:\n",
        "  print('Not worth selling right now. Your loss is: $', current - purchase, ' per bitcoin.')"
      ],
      "metadata": {
        "colab": {
          "base_uri": "https://localhost:8080/"
        },
        "id": "2fYWil2NrqXN",
        "outputId": "81c56158-226f-4c67-9487-cd04c6159aec"
      },
      "execution_count": null,
      "outputs": [
        {
          "output_type": "stream",
          "name": "stdout",
          "text": [
            "Price at which you purchased bitcoin: 50\n",
            "Current price of bitcoin: 55\n",
            "Consider holding on a bit longer as your profit is only  5.0 $ per bitcoin.\n"
          ]
        }
      ]
    },
    {
      "cell_type": "code",
      "source": [
        "x = -11\n",
        "y = 0\n",
        "if x > 0:\n",
        "    print ('x is greater than 0')\n",
        "    if y > 0:\n",
        "        print ('& y is also greater than 0')\n",
        "    elif y<0:\n",
        "        print ('& y is less than 0')\n",
        "    else:\n",
        "        print ('& y is equal to 0')\n",
        "print (\"x: \",x)\n",
        "print ('Finished.')"
      ],
      "metadata": {
        "colab": {
          "base_uri": "https://localhost:8080/"
        },
        "id": "b-QLL_A61IDY",
        "outputId": "e5d43191-c35c-43bb-fc82-0b129e54fa68"
      },
      "execution_count": null,
      "outputs": [
        {
          "output_type": "stream",
          "name": "stdout",
          "text": [
            "x:  -11\n",
            "Finished.\n"
          ]
        }
      ]
    },
    {
      "cell_type": "code",
      "source": [
        "x = -81\n",
        "y = 0\n",
        "if x > 0:\n",
        "    print ('x is greater than 0')\n",
        "if y > 0:\n",
        "    print ('& y is also greater than 0')\n",
        "elif y<0:\n",
        "    print ('& y is less than 0')\n",
        "else:\n",
        "    print ('& y is equal to 0')\n",
        "print (\"x: \",x)\n",
        "print ('Finished.')"
      ],
      "metadata": {
        "colab": {
          "base_uri": "https://localhost:8080/"
        },
        "id": "Wh88feGZwLsi",
        "outputId": "495c9404-159d-4c09-823d-cafb6a999f13"
      },
      "execution_count": null,
      "outputs": [
        {
          "output_type": "stream",
          "name": "stdout",
          "text": [
            "& y is equal to 0\n",
            "x:  -81\n",
            "Finished.\n"
          ]
        }
      ]
    },
    {
      "cell_type": "markdown",
      "source": [
        "# Try printing each of these. Play around with the value of x\n",
        "\n"
      ],
      "metadata": {
        "id": "xU8JG5tNIMLn"
      }
    },
    {
      "cell_type": "code",
      "source": [
        "x = 4\n",
        "x != 5\n",
        "x > 0\n",
        "x==5"
      ],
      "metadata": {
        "colab": {
          "base_uri": "https://localhost:8080/"
        },
        "id": "9pSOq_NwILTo",
        "outputId": "6c902131-9357-4aa2-aa7f-bc7ebb812a78"
      },
      "execution_count": null,
      "outputs": [
        {
          "output_type": "execute_result",
          "data": {
            "text/plain": [
              "False"
            ]
          },
          "metadata": {},
          "execution_count": 24
        }
      ]
    },
    {
      "cell_type": "markdown",
      "source": [
        "## Python Conditionals (Alt Syntax)"
      ],
      "metadata": {
        "id": "J8qn5jpnJpku"
      }
    },
    {
      "cell_type": "code",
      "source": [
        "x=0\n",
        "if x > 0:\n",
        "  z = 5\n",
        "else:\n",
        "  z = 0\n",
        "print(z) # how we would generally run this code"
      ],
      "metadata": {
        "colab": {
          "base_uri": "https://localhost:8080/"
        },
        "id": "EzzxzZS-wtjF",
        "outputId": "7f2ed05a-17e4-45dd-df31-abfd0efedb03"
      },
      "execution_count": null,
      "outputs": [
        {
          "output_type": "stream",
          "name": "stdout",
          "text": [
            "0\n"
          ]
        }
      ]
    },
    {
      "cell_type": "code",
      "source": [
        "x=0\n",
        "z = 5 if x > 0 else 0\n",
        "print(z)"
      ],
      "metadata": {
        "id": "1341t7l4ILbM",
        "colab": {
          "base_uri": "https://localhost:8080/"
        },
        "outputId": "f4a644e9-e627-4aa5-c02a-6dd91bc5068d"
      },
      "execution_count": null,
      "outputs": [
        {
          "output_type": "stream",
          "name": "stdout",
          "text": [
            "0\n"
          ]
        }
      ]
    },
    {
      "cell_type": "code",
      "source": [
        "# This is a form of if statement called ternary conditional operator\n",
        "x=1\n",
        "#The first value is the value if the conditional is false\n",
        "z=(0, 5)[x>0]\n",
        "print(z)"
      ],
      "metadata": {
        "id": "7uxSr-yhILdg",
        "colab": {
          "base_uri": "https://localhost:8080/"
        },
        "outputId": "a173968a-01cd-46f7-9f54-28586cc41db2"
      },
      "execution_count": null,
      "outputs": [
        {
          "output_type": "stream",
          "name": "stdout",
          "text": [
            "5\n"
          ]
        }
      ]
    },
    {
      "cell_type": "markdown",
      "source": [
        "## FOR Statement\n",
        "\n",
        "Enables us to iterate over contents of lists."
      ],
      "metadata": {
        "id": "gGK-citbRPY-"
      }
    },
    {
      "cell_type": "code",
      "source": [
        "#Here we are iterating on lists.\n",
        "sum=0\n",
        "for ad in [10, 2, 36]:\n",
        "    sum+=ad    #This is short hand for sum = sum+ad\n",
        "    print(sum)\n",
        "\n",
        "for country in ['England', 'Spain', 'India']:\n",
        "    print(country)"
      ],
      "metadata": {
        "id": "w9ZucU9sILf2",
        "colab": {
          "base_uri": "https://localhost:8080/"
        },
        "outputId": "daca4b09-2a65-45ae-9a7b-47ec213b7b82"
      },
      "execution_count": null,
      "outputs": [
        {
          "output_type": "stream",
          "name": "stdout",
          "text": [
            "10\n",
            "12\n",
            "48\n",
            "England\n",
            "Spain\n",
            "India\n"
          ]
        }
      ]
    },
    {
      "cell_type": "code",
      "source": [
        "products = [\"banana\", \"apple\", \"squash\"]\n",
        "\n",
        "for item in products:\n",
        "    print(\"Our best selling product this week is, \" + item + \"!\")"
      ],
      "metadata": {
        "colab": {
          "base_uri": "https://localhost:8080/"
        },
        "id": "X7F831kCwb3A",
        "outputId": "90a19430-fbb6-44cd-9ce8-3539c48048fe"
      },
      "execution_count": null,
      "outputs": [
        {
          "output_type": "stream",
          "name": "stdout",
          "text": [
            "Our best selling product this week is, banana!\n",
            "Our best selling product this week is, apple!\n",
            "Our best selling product this week is, squash!\n"
          ]
        }
      ]
    },
    {
      "cell_type": "code",
      "source": [
        "x=[0,1,2]\n",
        "y=['a','b','c','j']\n",
        "#Nested for loops\n",
        "for d in x:\n",
        "    for f in y:\n",
        "        print(d,f)"
      ],
      "metadata": {
        "id": "R7ANRkUwILid",
        "colab": {
          "base_uri": "https://localhost:8080/"
        },
        "outputId": "20898000-52e5-4df1-e8fa-8a903f1e2ecb"
      },
      "execution_count": null,
      "outputs": [
        {
          "output_type": "stream",
          "name": "stdout",
          "text": [
            "0 a\n",
            "0 b\n",
            "0 c\n",
            "0 j\n",
            "1 a\n",
            "1 b\n",
            "1 c\n",
            "1 j\n",
            "2 a\n",
            "2 b\n",
            "2 c\n",
            "2 j\n"
          ]
        }
      ]
    },
    {
      "cell_type": "code",
      "source": [
        "for i in range(10):\n",
        "    print(i*3)"
      ],
      "metadata": {
        "colab": {
          "base_uri": "https://localhost:8080/"
        },
        "id": "7KmuC9ORvHz_",
        "outputId": "cf4426e1-8241-40a6-cb43-909b95a24aee"
      },
      "execution_count": null,
      "outputs": [
        {
          "output_type": "stream",
          "name": "stdout",
          "text": [
            "0\n",
            "3\n",
            "6\n",
            "9\n",
            "12\n",
            "15\n",
            "18\n",
            "21\n",
            "24\n",
            "27\n"
          ]
        }
      ]
    },
    {
      "cell_type": "code",
      "source": [
        "multiple_three = []\n",
        "for i in range(11):\n",
        "    multiple_three.append(i*3)\n",
        "print(multiple_three)"
      ],
      "metadata": {
        "colab": {
          "base_uri": "https://localhost:8080/"
        },
        "id": "ZDm8l35aH8Im",
        "outputId": "c82e84bc-3033-4fd3-f0ff-f6441bf4cc9e"
      },
      "execution_count": null,
      "outputs": [
        {
          "output_type": "stream",
          "name": "stdout",
          "text": [
            "[0, 3, 6, 9, 12, 15, 18, 21, 24, 27, 30]\n"
          ]
        }
      ]
    },
    {
      "cell_type": "code",
      "source": [
        "#Range is a built in function that can be passed to a for loop\n",
        "#https://docs.python.org/3/library/functions.html#func-range\n",
        "#Range accepts a number and a (start/stop/step) like the arrange command.\n",
        "z=range(5)\n",
        "# print(z, type(z))\n",
        "#Range\n",
        "for i in z:\n",
        "    print('Print five')\n",
        "for i in range(4):\n",
        "    print('Print four more')\n",
        "for i in range(5,20,2):\n",
        "    print('i: %d is the value' % (i))\n",
        "    # print(f'i:{i}  is the 2nd value' ) #This is an alternate way of embedding values in text."
      ],
      "metadata": {
        "id": "PK8CKby7ILlU",
        "colab": {
          "base_uri": "https://localhost:8080/"
        },
        "outputId": "9f92ccc4-94b9-44e6-f810-dd0e91974712"
      },
      "execution_count": null,
      "outputs": [
        {
          "output_type": "stream",
          "name": "stdout",
          "text": [
            "Print five\n",
            "Print five\n",
            "Print five\n",
            "Print five\n",
            "Print five\n",
            "Print four more\n",
            "Print four more\n",
            "Print four more\n",
            "Print four more\n",
            "i: 5 is the value\n",
            "i: 7 is the value\n",
            "i: 9 is the value\n",
            "i: 11 is the value\n",
            "i: 13 is the value\n",
            "i: 15 is the value\n",
            "i: 17 is the value\n",
            "i: 19 is the value\n"
          ]
        }
      ]
    },
    {
      "cell_type": "code",
      "execution_count": null,
      "metadata": {
        "id": "wJw7qHU-RDuj",
        "outputId": "10415171-119e-43ca-a8bf-938c7e461913",
        "colab": {
          "base_uri": "https://localhost:8080/"
        }
      },
      "outputs": [
        {
          "output_type": "execute_result",
          "data": {
            "text/plain": [
              "[25, 36, 49, 64, 81, 100, 121, 144, 169, 196]"
            ]
          },
          "metadata": {},
          "execution_count": 15
        }
      ],
      "source": [
        "#This is the long way of building lists.\n",
        "L = []\n",
        "for n in range(5,15):\n",
        "    L.append(n ** 2)\n",
        "L"
      ]
    },
    {
      "cell_type": "code",
      "execution_count": null,
      "metadata": {
        "id": "rx6DWngLRDuj",
        "outputId": "758cd5f7-aa66-4f46-f764-7559b317d021",
        "colab": {
          "base_uri": "https://localhost:8080/"
        }
      },
      "outputs": [
        {
          "output_type": "execute_result",
          "data": {
            "text/plain": [
              "[25, 36, 49, 64, 81, 100, 121, 144, 169, 196]"
            ]
          },
          "metadata": {},
          "execution_count": 16
        }
      ],
      "source": [
        "#With list comprehension.\n",
        "L=[n ** 2 for n in range(5,15)]\n",
        "L"
      ]
    },
    {
      "cell_type": "code",
      "source": [
        "# Print all negative numbers in a list\n",
        "\n",
        "mylist = [2, 5, -3, 8, 1, -5, -8]\n",
        "neglist = []\n",
        "for i in mylist:\n",
        "    if i < 0:\n",
        "        neglist.append(i)\n",
        "print(neglist)\n",
        "\n",
        "\n",
        "# With list comprehensions\n",
        "neglist2 = [i for i in mylist if i < 0]\n",
        "print(neglist2)"
      ],
      "metadata": {
        "colab": {
          "base_uri": "https://localhost:8080/"
        },
        "id": "7IhMp3JpxeWZ",
        "outputId": "53a7ea0d-c395-4557-960e-1121faa29ad6"
      },
      "execution_count": null,
      "outputs": [
        {
          "output_type": "stream",
          "name": "stdout",
          "text": [
            "[-3, -5, -8]\n",
            "[-3, -5, -8]\n"
          ]
        }
      ]
    },
    {
      "cell_type": "code",
      "execution_count": null,
      "metadata": {
        "id": "mYqcDLVVRDuj",
        "outputId": "655801d8-28aa-49a0-9a5a-36d643befead"
      },
      "outputs": [
        {
          "data": {
            "text/plain": [
              "[0, 3, 6, 9, 12, 15, 18]"
            ]
          },
          "execution_count": 28,
          "metadata": {},
          "output_type": "execute_result"
        }
      ],
      "source": [
        "#Any actions are on left side, any conditionals on right side\n",
        "[i for i in range(20) if i % 3 == 0]"
      ]
    },
    {
      "cell_type": "code",
      "source": [],
      "metadata": {
        "id": "IiDbydardJl5"
      },
      "execution_count": null,
      "outputs": []
    },
    {
      "cell_type": "markdown",
      "metadata": {
        "id": "59cIXdk8RDuj"
      },
      "source": [
        "### Multiple Interators\n",
        "- Iterating on multiple values"
      ]
    },
    {
      "cell_type": "code",
      "execution_count": null,
      "metadata": {
        "id": "Bkv96wvnRDuj",
        "outputId": "b66c002c-a8ae-4da6-908a-21f5b96272d0"
      },
      "outputs": [
        {
          "data": {
            "text/plain": [
              "[(0, 0), (0, 1), (0, 2), (1, 0), (1, 1), (1, 2)]"
            ]
          },
          "execution_count": 29,
          "metadata": {},
          "output_type": "execute_result"
        }
      ],
      "source": [
        "[(i, j) for i in range(2) for j in range(3)]"
      ]
    },
    {
      "cell_type": "markdown",
      "metadata": {
        "id": "puZ7W8vdRDuk"
      },
      "source": [
        "### Dictionary Comprehension\n"
      ]
    },
    {
      "cell_type": "code",
      "execution_count": null,
      "metadata": {
        "id": "ohkWLtUyRDul",
        "outputId": "1f039d97-5646-4d6c-dfe3-d762f459e947"
      },
      "outputs": [
        {
          "data": {
            "text/plain": [
              "{0: 0, 1: 1, 2: 4, 3: 9, 4: 16, 5: 25}"
            ]
          },
          "execution_count": 30,
          "metadata": {},
          "output_type": "execute_result"
        }
      ],
      "source": [
        "#We can change it to a dictionary by just changing the brackets and adding a colon.\n",
        "{n:n**2 for n in range(6)}"
      ]
    },
    {
      "cell_type": "markdown",
      "metadata": {
        "id": "Bbpfsn13RDul"
      },
      "source": [
        "## While Loops\n",
        "- Performs a loop while a conditional is True.\n",
        "- Doesn't auto-increment.\n"
      ]
    },
    {
      "cell_type": "code",
      "execution_count": 1,
      "metadata": {
        "id": "iuPFnLsqRDul",
        "outputId": "4fe2c3b1-d51c-41ec-e7d4-e3619b455a2f",
        "colab": {
          "base_uri": "https://localhost:8080/"
        }
      },
      "outputs": [
        {
          "output_type": "stream",
          "name": "stdout",
          "text": [
            "Printing x= 1 sum= 0\n",
            "Printing x= 2 sum= 10\n",
            "Printing x= 3 sum= 20\n",
            "Printing x= 4 sum= 30\n",
            "Printing x= 5 sum= 40\n",
            "Printing x= 6 sum= 50\n",
            "Printing x= 7 sum= 60\n",
            "Printing x= 8 sum= 70\n",
            "Printing x= 9 sum= 80\n"
          ]
        }
      ],
      "source": [
        "x = 1\n",
        "sum=0\n",
        "while x<10:\n",
        "    print (\"Printing x= %d sum= %d\" % (x, sum))\n",
        "    x += 1\n",
        "    sum+=10"
      ]
    },
    {
      "cell_type": "code",
      "source": [
        "a = 1\n",
        "while a<2000:\n",
        "  print(a)\n",
        "  a = a*2"
      ],
      "metadata": {
        "colab": {
          "base_uri": "https://localhost:8080/"
        },
        "id": "4gaHYGtS8td8",
        "outputId": "8b203204-e23a-4760-cff6-b3c7133cf208"
      },
      "execution_count": 2,
      "outputs": [
        {
          "output_type": "stream",
          "name": "stdout",
          "text": [
            "1\n",
            "2\n",
            "4\n",
            "8\n",
            "16\n",
            "32\n",
            "64\n",
            "128\n",
            "256\n",
            "512\n",
            "1024\n"
          ]
        }
      ]
    },
    {
      "cell_type": "code",
      "source": [
        "a = 1\n",
        "\n",
        "while True:\n",
        "    a = a * 2\n",
        "    print(a)\n",
        "    if (a > 1000):\n",
        "        break"
      ],
      "metadata": {
        "id": "gzm0qnZd99Mz",
        "outputId": "95734481-445d-4feb-b180-6ea12e666866",
        "colab": {
          "base_uri": "https://localhost:8080/"
        }
      },
      "execution_count": 3,
      "outputs": [
        {
          "output_type": "stream",
          "name": "stdout",
          "text": [
            "2\n",
            "4\n",
            "8\n",
            "16\n",
            "32\n",
            "64\n",
            "128\n",
            "256\n",
            "512\n",
            "1024\n"
          ]
        }
      ]
    },
    {
      "cell_type": "code",
      "source": [
        "n = 0\n",
        "while True: # execute indefinitely print (\"Executing while loop\")\n",
        "  if n == 5: # stop loop if n is 5\n",
        "    break\n",
        "  n = n + 1\n",
        "  print (\"Finished while loop\", n)\n"
      ],
      "metadata": {
        "colab": {
          "base_uri": "https://localhost:8080/"
        },
        "id": "peq39ODYD8NO",
        "outputId": "8720f2a5-369c-44cd-f9be-e8b671b1e0bf"
      },
      "execution_count": 4,
      "outputs": [
        {
          "output_type": "stream",
          "name": "stdout",
          "text": [
            "Finished while loop 1\n",
            "Finished while loop 2\n",
            "Finished while loop 3\n",
            "Finished while loop 4\n",
            "Finished while loop 5\n"
          ]
        }
      ]
    },
    {
      "cell_type": "markdown",
      "metadata": {
        "id": "F2VE5cStRDum"
      },
      "source": [
        "## Recoding Variables/Creating Features with `for/if`\n",
        "- Often we want to recode data applying some type of conditional statement to each value of a series, list, or column of a data frame.\n",
        "- [Regular Expressions](https://docs.python.org/3/howto/regex.html) can be useful in recoding"
      ]
    },
    {
      "cell_type": "code",
      "execution_count": 5,
      "metadata": {
        "id": "BcaOJa3ZRDum",
        "outputId": "7cd1a55a-a5b8-4580-9e5d-6ffbe137b4b4",
        "colab": {
          "base_uri": "https://localhost:8080/"
        }
      },
      "outputs": [
        {
          "output_type": "stream",
          "name": "stdout",
          "text": [
            "['Survived', 'Survived', 'Survived', 'Died', 'Died', 'Died']\n"
          ]
        }
      ],
      "source": [
        "#Titanic Preview Women and Children first\n",
        "\n",
        "gender=['Female', 'Female','Female', 'Male', 'Male', 'Male' ]\n",
        "age=[75, 45, 15, 1, 45, 4 ]\n",
        "name = ['Sally White', 'Susanna Petrovsky', 'Samantha Russ', 'Finn Patrick', 'Johnny Cash', 'Pep Guardiola']\n",
        "survived=[]\n",
        "for i in range(len(gender)):\n",
        "    if gender[i]=='Female':\n",
        "        survived.append('Survived')\n",
        "    else:\n",
        "        survived.append('Died')\n",
        "print(survived)\n"
      ]
    },
    {
      "cell_type": "code",
      "source": [
        "young=[]\n",
        "for i in range(len(age)):\n",
        "    if age[i]>=20:\n",
        "        young.append('adult')\n",
        "    else:\n",
        "        young.append('child')\n",
        "print(young)\n",
        "\n"
      ],
      "metadata": {
        "colab": {
          "base_uri": "https://localhost:8080/"
        },
        "id": "GW_8rywzTE8O",
        "outputId": "be18f2da-de56-4dc9-e80e-465eed72884f"
      },
      "execution_count": 12,
      "outputs": [
        {
          "output_type": "stream",
          "name": "stdout",
          "text": [
            "['adult', 'adult', 'child', 'child', 'adult', 'child']\n"
          ]
        }
      ]
    },
    {
      "cell_type": "code",
      "source": [
        "# prompt: gender=['Female', 'Female','Female', 'Male', 'Male', 'Male' ]\n",
        "# age=[75, 45, 15, 1, 45, 4 ]\n",
        "\n",
        "import pandas as pd\n",
        "\n",
        "data = {'gender': gender, 'age': age}\n",
        "df = pd.DataFrame(data)\n",
        "df\n"
      ],
      "metadata": {
        "colab": {
          "base_uri": "https://localhost:8080/",
          "height": 235
        },
        "id": "PIxI4CW4S8bt",
        "outputId": "8184add4-c486-4b96-9fcc-1a001413bc83"
      },
      "execution_count": 13,
      "outputs": [
        {
          "output_type": "execute_result",
          "data": {
            "text/plain": [
              "   gender  age\n",
              "0  Female   75\n",
              "1  Female   45\n",
              "2  Female   15\n",
              "3    Male    1\n",
              "4    Male   45\n",
              "5    Male    4"
            ],
            "text/html": [
              "\n",
              "  <div id=\"df-1f700ade-6f09-41fd-bbd4-e2af7c134ea9\" class=\"colab-df-container\">\n",
              "    <div>\n",
              "<style scoped>\n",
              "    .dataframe tbody tr th:only-of-type {\n",
              "        vertical-align: middle;\n",
              "    }\n",
              "\n",
              "    .dataframe tbody tr th {\n",
              "        vertical-align: top;\n",
              "    }\n",
              "\n",
              "    .dataframe thead th {\n",
              "        text-align: right;\n",
              "    }\n",
              "</style>\n",
              "<table border=\"1\" class=\"dataframe\">\n",
              "  <thead>\n",
              "    <tr style=\"text-align: right;\">\n",
              "      <th></th>\n",
              "      <th>gender</th>\n",
              "      <th>age</th>\n",
              "    </tr>\n",
              "  </thead>\n",
              "  <tbody>\n",
              "    <tr>\n",
              "      <th>0</th>\n",
              "      <td>Female</td>\n",
              "      <td>75</td>\n",
              "    </tr>\n",
              "    <tr>\n",
              "      <th>1</th>\n",
              "      <td>Female</td>\n",
              "      <td>45</td>\n",
              "    </tr>\n",
              "    <tr>\n",
              "      <th>2</th>\n",
              "      <td>Female</td>\n",
              "      <td>15</td>\n",
              "    </tr>\n",
              "    <tr>\n",
              "      <th>3</th>\n",
              "      <td>Male</td>\n",
              "      <td>1</td>\n",
              "    </tr>\n",
              "    <tr>\n",
              "      <th>4</th>\n",
              "      <td>Male</td>\n",
              "      <td>45</td>\n",
              "    </tr>\n",
              "    <tr>\n",
              "      <th>5</th>\n",
              "      <td>Male</td>\n",
              "      <td>4</td>\n",
              "    </tr>\n",
              "  </tbody>\n",
              "</table>\n",
              "</div>\n",
              "    <div class=\"colab-df-buttons\">\n",
              "\n",
              "  <div class=\"colab-df-container\">\n",
              "    <button class=\"colab-df-convert\" onclick=\"convertToInteractive('df-1f700ade-6f09-41fd-bbd4-e2af7c134ea9')\"\n",
              "            title=\"Convert this dataframe to an interactive table.\"\n",
              "            style=\"display:none;\">\n",
              "\n",
              "  <svg xmlns=\"http://www.w3.org/2000/svg\" height=\"24px\" viewBox=\"0 -960 960 960\">\n",
              "    <path d=\"M120-120v-720h720v720H120Zm60-500h600v-160H180v160Zm220 220h160v-160H400v160Zm0 220h160v-160H400v160ZM180-400h160v-160H180v160Zm440 0h160v-160H620v160ZM180-180h160v-160H180v160Zm440 0h160v-160H620v160Z\"/>\n",
              "  </svg>\n",
              "    </button>\n",
              "\n",
              "  <style>\n",
              "    .colab-df-container {\n",
              "      display:flex;\n",
              "      gap: 12px;\n",
              "    }\n",
              "\n",
              "    .colab-df-convert {\n",
              "      background-color: #E8F0FE;\n",
              "      border: none;\n",
              "      border-radius: 50%;\n",
              "      cursor: pointer;\n",
              "      display: none;\n",
              "      fill: #1967D2;\n",
              "      height: 32px;\n",
              "      padding: 0 0 0 0;\n",
              "      width: 32px;\n",
              "    }\n",
              "\n",
              "    .colab-df-convert:hover {\n",
              "      background-color: #E2EBFA;\n",
              "      box-shadow: 0px 1px 2px rgba(60, 64, 67, 0.3), 0px 1px 3px 1px rgba(60, 64, 67, 0.15);\n",
              "      fill: #174EA6;\n",
              "    }\n",
              "\n",
              "    .colab-df-buttons div {\n",
              "      margin-bottom: 4px;\n",
              "    }\n",
              "\n",
              "    [theme=dark] .colab-df-convert {\n",
              "      background-color: #3B4455;\n",
              "      fill: #D2E3FC;\n",
              "    }\n",
              "\n",
              "    [theme=dark] .colab-df-convert:hover {\n",
              "      background-color: #434B5C;\n",
              "      box-shadow: 0px 1px 3px 1px rgba(0, 0, 0, 0.15);\n",
              "      filter: drop-shadow(0px 1px 2px rgba(0, 0, 0, 0.3));\n",
              "      fill: #FFFFFF;\n",
              "    }\n",
              "  </style>\n",
              "\n",
              "    <script>\n",
              "      const buttonEl =\n",
              "        document.querySelector('#df-1f700ade-6f09-41fd-bbd4-e2af7c134ea9 button.colab-df-convert');\n",
              "      buttonEl.style.display =\n",
              "        google.colab.kernel.accessAllowed ? 'block' : 'none';\n",
              "\n",
              "      async function convertToInteractive(key) {\n",
              "        const element = document.querySelector('#df-1f700ade-6f09-41fd-bbd4-e2af7c134ea9');\n",
              "        const dataTable =\n",
              "          await google.colab.kernel.invokeFunction('convertToInteractive',\n",
              "                                                    [key], {});\n",
              "        if (!dataTable) return;\n",
              "\n",
              "        const docLinkHtml = 'Like what you see? Visit the ' +\n",
              "          '<a target=\"_blank\" href=https://colab.research.google.com/notebooks/data_table.ipynb>data table notebook</a>'\n",
              "          + ' to learn more about interactive tables.';\n",
              "        element.innerHTML = '';\n",
              "        dataTable['output_type'] = 'display_data';\n",
              "        await google.colab.output.renderOutput(dataTable, element);\n",
              "        const docLink = document.createElement('div');\n",
              "        docLink.innerHTML = docLinkHtml;\n",
              "        element.appendChild(docLink);\n",
              "      }\n",
              "    </script>\n",
              "  </div>\n",
              "\n",
              "\n",
              "<div id=\"df-b5999bad-51f2-4058-b5b7-28b78aacd358\">\n",
              "  <button class=\"colab-df-quickchart\" onclick=\"quickchart('df-b5999bad-51f2-4058-b5b7-28b78aacd358')\"\n",
              "            title=\"Suggest charts\"\n",
              "            style=\"display:none;\">\n",
              "\n",
              "<svg xmlns=\"http://www.w3.org/2000/svg\" height=\"24px\"viewBox=\"0 0 24 24\"\n",
              "     width=\"24px\">\n",
              "    <g>\n",
              "        <path d=\"M19 3H5c-1.1 0-2 .9-2 2v14c0 1.1.9 2 2 2h14c1.1 0 2-.9 2-2V5c0-1.1-.9-2-2-2zM9 17H7v-7h2v7zm4 0h-2V7h2v10zm4 0h-2v-4h2v4z\"/>\n",
              "    </g>\n",
              "</svg>\n",
              "  </button>\n",
              "\n",
              "<style>\n",
              "  .colab-df-quickchart {\n",
              "      --bg-color: #E8F0FE;\n",
              "      --fill-color: #1967D2;\n",
              "      --hover-bg-color: #E2EBFA;\n",
              "      --hover-fill-color: #174EA6;\n",
              "      --disabled-fill-color: #AAA;\n",
              "      --disabled-bg-color: #DDD;\n",
              "  }\n",
              "\n",
              "  [theme=dark] .colab-df-quickchart {\n",
              "      --bg-color: #3B4455;\n",
              "      --fill-color: #D2E3FC;\n",
              "      --hover-bg-color: #434B5C;\n",
              "      --hover-fill-color: #FFFFFF;\n",
              "      --disabled-bg-color: #3B4455;\n",
              "      --disabled-fill-color: #666;\n",
              "  }\n",
              "\n",
              "  .colab-df-quickchart {\n",
              "    background-color: var(--bg-color);\n",
              "    border: none;\n",
              "    border-radius: 50%;\n",
              "    cursor: pointer;\n",
              "    display: none;\n",
              "    fill: var(--fill-color);\n",
              "    height: 32px;\n",
              "    padding: 0;\n",
              "    width: 32px;\n",
              "  }\n",
              "\n",
              "  .colab-df-quickchart:hover {\n",
              "    background-color: var(--hover-bg-color);\n",
              "    box-shadow: 0 1px 2px rgba(60, 64, 67, 0.3), 0 1px 3px 1px rgba(60, 64, 67, 0.15);\n",
              "    fill: var(--button-hover-fill-color);\n",
              "  }\n",
              "\n",
              "  .colab-df-quickchart-complete:disabled,\n",
              "  .colab-df-quickchart-complete:disabled:hover {\n",
              "    background-color: var(--disabled-bg-color);\n",
              "    fill: var(--disabled-fill-color);\n",
              "    box-shadow: none;\n",
              "  }\n",
              "\n",
              "  .colab-df-spinner {\n",
              "    border: 2px solid var(--fill-color);\n",
              "    border-color: transparent;\n",
              "    border-bottom-color: var(--fill-color);\n",
              "    animation:\n",
              "      spin 1s steps(1) infinite;\n",
              "  }\n",
              "\n",
              "  @keyframes spin {\n",
              "    0% {\n",
              "      border-color: transparent;\n",
              "      border-bottom-color: var(--fill-color);\n",
              "      border-left-color: var(--fill-color);\n",
              "    }\n",
              "    20% {\n",
              "      border-color: transparent;\n",
              "      border-left-color: var(--fill-color);\n",
              "      border-top-color: var(--fill-color);\n",
              "    }\n",
              "    30% {\n",
              "      border-color: transparent;\n",
              "      border-left-color: var(--fill-color);\n",
              "      border-top-color: var(--fill-color);\n",
              "      border-right-color: var(--fill-color);\n",
              "    }\n",
              "    40% {\n",
              "      border-color: transparent;\n",
              "      border-right-color: var(--fill-color);\n",
              "      border-top-color: var(--fill-color);\n",
              "    }\n",
              "    60% {\n",
              "      border-color: transparent;\n",
              "      border-right-color: var(--fill-color);\n",
              "    }\n",
              "    80% {\n",
              "      border-color: transparent;\n",
              "      border-right-color: var(--fill-color);\n",
              "      border-bottom-color: var(--fill-color);\n",
              "    }\n",
              "    90% {\n",
              "      border-color: transparent;\n",
              "      border-bottom-color: var(--fill-color);\n",
              "    }\n",
              "  }\n",
              "</style>\n",
              "\n",
              "  <script>\n",
              "    async function quickchart(key) {\n",
              "      const quickchartButtonEl =\n",
              "        document.querySelector('#' + key + ' button');\n",
              "      quickchartButtonEl.disabled = true;  // To prevent multiple clicks.\n",
              "      quickchartButtonEl.classList.add('colab-df-spinner');\n",
              "      try {\n",
              "        const charts = await google.colab.kernel.invokeFunction(\n",
              "            'suggestCharts', [key], {});\n",
              "      } catch (error) {\n",
              "        console.error('Error during call to suggestCharts:', error);\n",
              "      }\n",
              "      quickchartButtonEl.classList.remove('colab-df-spinner');\n",
              "      quickchartButtonEl.classList.add('colab-df-quickchart-complete');\n",
              "    }\n",
              "    (() => {\n",
              "      let quickchartButtonEl =\n",
              "        document.querySelector('#df-b5999bad-51f2-4058-b5b7-28b78aacd358 button');\n",
              "      quickchartButtonEl.style.display =\n",
              "        google.colab.kernel.accessAllowed ? 'block' : 'none';\n",
              "    })();\n",
              "  </script>\n",
              "</div>\n",
              "\n",
              "  <div id=\"id_b2cab2ab-dc24-4fce-99cb-a2a5cbc33551\">\n",
              "    <style>\n",
              "      .colab-df-generate {\n",
              "        background-color: #E8F0FE;\n",
              "        border: none;\n",
              "        border-radius: 50%;\n",
              "        cursor: pointer;\n",
              "        display: none;\n",
              "        fill: #1967D2;\n",
              "        height: 32px;\n",
              "        padding: 0 0 0 0;\n",
              "        width: 32px;\n",
              "      }\n",
              "\n",
              "      .colab-df-generate:hover {\n",
              "        background-color: #E2EBFA;\n",
              "        box-shadow: 0px 1px 2px rgba(60, 64, 67, 0.3), 0px 1px 3px 1px rgba(60, 64, 67, 0.15);\n",
              "        fill: #174EA6;\n",
              "      }\n",
              "\n",
              "      [theme=dark] .colab-df-generate {\n",
              "        background-color: #3B4455;\n",
              "        fill: #D2E3FC;\n",
              "      }\n",
              "\n",
              "      [theme=dark] .colab-df-generate:hover {\n",
              "        background-color: #434B5C;\n",
              "        box-shadow: 0px 1px 3px 1px rgba(0, 0, 0, 0.15);\n",
              "        filter: drop-shadow(0px 1px 2px rgba(0, 0, 0, 0.3));\n",
              "        fill: #FFFFFF;\n",
              "      }\n",
              "    </style>\n",
              "    <button class=\"colab-df-generate\" onclick=\"generateWithVariable('df')\"\n",
              "            title=\"Generate code using this dataframe.\"\n",
              "            style=\"display:none;\">\n",
              "\n",
              "  <svg xmlns=\"http://www.w3.org/2000/svg\" height=\"24px\"viewBox=\"0 0 24 24\"\n",
              "       width=\"24px\">\n",
              "    <path d=\"M7,19H8.4L18.45,9,17,7.55,7,17.6ZM5,21V16.75L18.45,3.32a2,2,0,0,1,2.83,0l1.4,1.43a1.91,1.91,0,0,1,.58,1.4,1.91,1.91,0,0,1-.58,1.4L9.25,21ZM18.45,9,17,7.55Zm-12,3A5.31,5.31,0,0,0,4.9,8.1,5.31,5.31,0,0,0,1,6.5,5.31,5.31,0,0,0,4.9,4.9,5.31,5.31,0,0,0,6.5,1,5.31,5.31,0,0,0,8.1,4.9,5.31,5.31,0,0,0,12,6.5,5.46,5.46,0,0,0,6.5,12Z\"/>\n",
              "  </svg>\n",
              "    </button>\n",
              "    <script>\n",
              "      (() => {\n",
              "      const buttonEl =\n",
              "        document.querySelector('#id_b2cab2ab-dc24-4fce-99cb-a2a5cbc33551 button.colab-df-generate');\n",
              "      buttonEl.style.display =\n",
              "        google.colab.kernel.accessAllowed ? 'block' : 'none';\n",
              "\n",
              "      buttonEl.onclick = () => {\n",
              "        google.colab.notebook.generateWithVariable('df');\n",
              "      }\n",
              "      })();\n",
              "    </script>\n",
              "  </div>\n",
              "\n",
              "    </div>\n",
              "  </div>\n"
            ],
            "application/vnd.google.colaboratory.intrinsic+json": {
              "type": "dataframe",
              "variable_name": "df",
              "summary": "{\n  \"name\": \"df\",\n  \"rows\": 6,\n  \"fields\": [\n    {\n      \"column\": \"gender\",\n      \"properties\": {\n        \"dtype\": \"category\",\n        \"num_unique_values\": 2,\n        \"samples\": [\n          \"Male\",\n          \"Female\"\n        ],\n        \"semantic_type\": \"\",\n        \"description\": \"\"\n      }\n    },\n    {\n      \"column\": \"age\",\n      \"properties\": {\n        \"dtype\": \"number\",\n        \"std\": 29,\n        \"min\": 1,\n        \"max\": 75,\n        \"num_unique_values\": 5,\n        \"samples\": [\n          45,\n          4\n        ],\n        \"semantic_type\": \"\",\n        \"description\": \"\"\n      }\n    }\n  ]\n}"
            }
          },
          "metadata": {},
          "execution_count": 13
        }
      ]
    },
    {
      "cell_type": "code",
      "source": [
        "# create a list that has survived if gender is female and died if otherwise using list comprehensions\n",
        "\n",
        "survived2 = [('Survived' if gender[i]=='Female' else 'Died') for i in range(len(gender))]\n",
        "print('\\n',survived2)"
      ],
      "metadata": {
        "colab": {
          "base_uri": "https://localhost:8080/"
        },
        "id": "MrLULNeQHRFa",
        "outputId": "1cceb4e5-87e7-4c1a-cc60-fef7805279ae"
      },
      "execution_count": 14,
      "outputs": [
        {
          "output_type": "stream",
          "name": "stdout",
          "text": [
            "\n",
            " ['Survived', 'Survived', 'Survived', 'Died', 'Died', 'Died']\n"
          ]
        }
      ]
    },
    {
      "cell_type": "markdown",
      "source": [
        "### Let us now open a Text File that is in our computer.\n",
        "NOTE: This is not possible on Colab as Colab does not access files in your C drive. I have still provided you the code to use should you wish to run code on a different IDE instead."
      ],
      "metadata": {
        "id": "Qcoxe6rKHqKm"
      }
    },
    {
      "cell_type": "code",
      "source": [
        "### Will not work on Google Colab\n",
        "f = open('/Users/NAME/FOLDER/class.txt', 'r')\n",
        "f.read()"
      ],
      "metadata": {
        "id": "7E9kVZ3NgdCX",
        "collapsed": true,
        "colab": {
          "base_uri": "https://localhost:8080/",
          "height": 173
        },
        "outputId": "9dd67f6c-f77e-41b9-d575-91ec423fd602"
      },
      "execution_count": 15,
      "outputs": [
        {
          "output_type": "error",
          "ename": "FileNotFoundError",
          "evalue": "[Errno 2] No such file or directory: '/Users/NAME/FOLDER/class.txt'",
          "traceback": [
            "\u001b[0;31m---------------------------------------------------------------------------\u001b[0m",
            "\u001b[0;31mFileNotFoundError\u001b[0m                         Traceback (most recent call last)",
            "\u001b[0;32m<ipython-input-15-45cfb2899bc9>\u001b[0m in \u001b[0;36m<cell line: 0>\u001b[0;34m()\u001b[0m\n\u001b[1;32m      1\u001b[0m \u001b[0;31m### Will not work on Google Colab\u001b[0m\u001b[0;34m\u001b[0m\u001b[0;34m\u001b[0m\u001b[0m\n\u001b[0;32m----> 2\u001b[0;31m \u001b[0mf\u001b[0m \u001b[0;34m=\u001b[0m \u001b[0mopen\u001b[0m\u001b[0;34m(\u001b[0m\u001b[0;34m'/Users/NAME/FOLDER/class.txt'\u001b[0m\u001b[0;34m,\u001b[0m \u001b[0;34m'r'\u001b[0m\u001b[0;34m)\u001b[0m\u001b[0;34m\u001b[0m\u001b[0;34m\u001b[0m\u001b[0m\n\u001b[0m\u001b[1;32m      3\u001b[0m \u001b[0mf\u001b[0m\u001b[0;34m.\u001b[0m\u001b[0mread\u001b[0m\u001b[0;34m(\u001b[0m\u001b[0;34m)\u001b[0m\u001b[0;34m\u001b[0m\u001b[0;34m\u001b[0m\u001b[0m\n",
            "\u001b[0;31mFileNotFoundError\u001b[0m: [Errno 2] No such file or directory: '/Users/NAME/FOLDER/class.txt'"
          ]
        }
      ]
    },
    {
      "cell_type": "code",
      "source": [
        "import base64\n",
        "import requests\n",
        "\n",
        "master = \"https://raw.githubusercontent.com/Jainu-s/urldata/master/al/abescoldbeer.com.txt\"\n",
        "req = requests.get(master)\n",
        "req = req.text\n",
        "print(req)"
      ],
      "metadata": {
        "colab": {
          "base_uri": "https://localhost:8080/"
        },
        "id": "AKPYIzp8guod",
        "outputId": "da4f3224-39c0-4eee-b15c-b43244f7a628"
      },
      "execution_count": 16,
      "outputs": [
        {
          "output_type": "stream",
          "name": "stdout",
          "text": [
            "stock beers abe's cold beer best selection lehigh valley specials promotions latest facebook diversify palette sixpoint puff weyerbacher finally legal bourbon barrel aged stout cocoa vanilla high watermelon troegs crimson pistil ipa brewed hibiscus flowers avery tequilacerbus bell's oberon victory monkey ballast point rose einstok icelandic arctic berry ale white cans summer monarchy methusalem holunderheimer johannisburger dortmunder altbier save beers years like oldest person according flying monkey's chocolate manifesto triple milk fegle'y blueberry belch evil twin lamp goose island lolita dog rental radler grapfruit passion fruit funk tumble weed plenty places beer established lot longer abe’s supermarkets trying crack market customers abe’s…sometimes far miles that’s right… different beers available know real stock largest best selection world we’ll glad special order mention massive filter brand country united states australia asia belgium canada europe kingdom france germany italy japan mexico central south american location abbey brewing monk's ale abita louisiana purple haze turbo dog,amber,jockamo harvest ales strawberry pecan harvest,satsuma seasonals:christmas nov-dec fall fest(sep-nov bock(jan-march),red march-may wheat(may-september acme(north coast california pale alesmith brewing grand cru horny devil,ipa,old numbskull,speedway stout heavy seasonals:yulesmith holiday imperial winter double summer evil dead halloween bloody valentine valentines seasonal anchor steam liberty christmas anderson boont amber poleeko barney flats oatmeal hop ottin solstice brother david triple anheuser busch missouri budweiser bud michelob ultra bridge shock belgian white,wild blue hound,sun dog arcadia london porter loco cereal killer shipwreck angler's atlantic maine coal porter,island ginger,bluberry atwater block brewery michigan vanilla java dirty blonde voodoovator lager cans,ipa cans seasonals blocktoberfest(fall),winter bock(winter avery colorado anniversary world hog heaven samael's beast mephistopheles dugana chief ballast point yellowtail calico black marlin big eye ipa,sculpin dorado bar harbor doal ginger,buleberry real thunder cadillac mnt bear republic racer rocket special xp rod big bell's michigan hearted kalamazoo seasonals:oberon brown white cherry cream old expedition sparkling hopslam stout hath fury blue moon seasonals harvest pumpkin(fall rising spring honey york toasted hoptical illusion blueberry boaks jersey blind monks monster mash bw boulder hazed infused,never summer,sweaty betty mojo risin breckenridge avalanche lucky seasonals:pandora's bock(january-march),agave wheat(spring/summer),summer bright(april-august),autumn(september-october),christmas ale(november-december brooklyn india pilsner chocolate local post road pumpkin penant brooklyner-schneider hopfen-weisse brew works fegley's pensylvaina hop'solutely ipa,hop explosion,always sunny seasonals:,bagpiper's scotch ale,insidious space monkey saison(april),imperial ale(august),,bourbon bbl insidious(febuary),rude reserve nov),devious belch buffalo bill's orange ale(seasonal pumpkin(seasonal waters wisconsin brewhouse coffee glacial trail ipa,happy heron illumination ipa,mud puppy satin shine irish cisco brewers massachusetts whale's tale grey lady climax nut ale,esb,ipa seasonals:helles lager,cream oktoberfest,dopplebock coronado califorina golden islander mermaid nutter brown,hoppy daze,red devil cricket hill hopnotic colonel blides cask seasonals:jersey summer(summer),fall festivus(fall),paymaster porter(winter dark horse crooked tree raspberry ale ale,four perkulater available dixie orleans blackened voodo north caorlina amber,brown,porter,milk seasonals:baltic porter,russian stout,barleywine,dopplebock,schwartzbier,marzen,wee heavery dogfish head delaware minute raison d'etre indian midas touch palo sant maron seasonals:chicory stout(winter),aprihop(spring),festina peche(summer),punkin(fall limited releases olde school barleywine wide chateau jiahu pangea burton baton immort theobroma,sha'tea,namaste,my antonia,squall imp river california organic exultation raven's eye erie pennsylvania railbender presque isle anthony's ale,misery bay seasonals:drake's crude oatmeal(january-february maibock(march-april),derailed ale(may-august),fallenbock(august-september red(november-december collins colorado major tom's pomegranate wheat shot retro rocky mountain salt lake utah monkshin,dunk'l,punk'n wyld,rype founders basterd,centennial ipa,reds rye,porter trouble jan-may),imperial stout(february)ken breakfast limited march),curmudgeon(may),cerise(june august),devil dancer(july),breackfast stout(september-december),harvest ale(october,backwoods bastard(november)nemeses(limited release flying doggy style in-heat hefe weizen scratch gonzo horn barley wine tire bite golden snake woody creek dogtoberfest marzen cruiser winter fish jersey dubbel extra hopfish espresso farmhouse octoberfish pint chinookie ipa,whit lightening wit,all-in-one perc bust porter,rumpelpils,yri-pa furthermore knot fatty boombalatty proper tree feet deep fallen apple makeweight oscura great divide fresh bridget's titan hercules douple samurai ruffian yeti oak aged hibernation wild lakes ohio burning pale ale,dortmunder gold lager eliot ness commodore perry edmund fitzgerald green ffash freak west trippel ruby geary's porter,summer autum gritty mcduff'sbrewing bitter,best brown,scottish harlem sugar harpoon massachusetts warmer munich ufo hefeweizen octoberfest barrel series leviathian's,saison he'brew schmaltz york genesis messiah bold origin pommegranate bittersweet lenny's seas maryland decks hang weizenbock loose cannon peg leg sky night saison small craft warning uber pils hoppin frog ohio boris crusher,manalishi ipa,hop ipa,otta kilter silk d.o.r.i.s.(january-april)hop dam ipa(march-may),turbo shandy citrus ale(may august),wild wheat(july-august),double pumpkin(august-november)frosted fraug(october-december ithaca apricot cascazilla excelsior ten,cold front,flower power jolly artisan ales calabaza roja blanca bam biere madrugada(january),es bam(april),luciernaga(june),bam noire september)maracaibo(november),noel lagunitas censored maximus shugga hairy eyeball lumpy gravy sirius undercover shutdown cappuccino lakefront wisconsin grist gluten placid ubu ale,india seasonal hiney lancaster pennsylvania amish grain milk seasonals:rumspringa cans(march-may)kolsch cans(may august),oktoberfest(september-november),winter warmer(november-january lavery pennsylvaina french summer),belfast stingy jack fall),imperial rte leopard oir bird left torry pines juice mcgarvey's scottish asylum magic sawtooth jackman's deep cover ginger polestar warrior chainsaw sisters,smoke jumper,widdershins leelanau good whaleback white leinenkugel sunset weiss berry weiss,(seasonal shandy(seasoanal fireside brown(seasonal vermont blackberry bag hibernator lost downtown beer,indicaipa,alley cat ball tangerine seasonal steelhead john barleycorn wine jamaica vermont number circus boy h.ipa kat hex hocus pocus roxy rolles,howl main peeper mcneills pullman's porter,dark angel stout,dead firehouse mendicino hawk ipa(seasonal middle ages bitter heart dragonslayer druid fluid,grail highlander impaled kilt tilter raspberry,swallow wailing wench duke winship tripel crown wheat,(seasonal wizards mike's hard lemonade,hard cranberry mikes litelemonade,lite cranberry,black lime classic margarita peach traditional lime,harder lemonade harder cranberry hard mango punch millercoors miller lite high life genuine draft chill sparks coors white,seasonals killian's mission mission blond hefeweizen mississippi mud moylan's lifter hopsickle moylander ryan o'sullivans holland hatter ipa,the poet dog,full circle ichabod ale,cabin feaver realeases:farmhouse hatter,black ipa,rye hatter,hopivoregolden cap gravity series pilgrams dole wheat wine tripper tulip celler evious seal star scrimshaw pranqster thelonius rasputin merle acme plowshare ommegang rare vos philosophers witte hennepin,bpa seasonals:chocolate indulgence ommegeddon cup kyndness,adoration.aphrodite oscar blues mama's lil dale's chub ale,limited releases fidy stout,gubna imp ipa,gordon otter copper kolsch stovepipe baltic wolaver's organics pabst ribbon penn pilsner,penn weizen allagany seasonals:marzen(january-april),oktoberfest august-october),st.nikolaus bock(noverber-january philadelphia kenzinger newbold walt rowhouse fleur port:santa's little helper stout,(seasonal anniversary,(once year wipe viscosity shark attack lit session lager,hot rocks abbey:serpent's barn judgement avante garde devotion witches wit:inferno carnevale commandments pretty d'or baby botolph's town releases:american darling confounded mr sysyphus,babayaga hedgrow rammstein wheat,classic dunkelweizen hazard,hopalotamus ale,lager wit(february-march),summer blond(april-august hippolantern(august-october stout(nivember-febuary freeze(october-december rogue oregon guy chipotle half-e-weizen juniper kells mocha monk madness morimoto obi soba red,shakespeare stout,chipoltle,mocha porter,jazz hazelnut brown.seasonal:santa's yellow snow rock vermonster,belvidere ipa,extreme series sesonals pumpkin,spruce ameri-belgo rolling saint florida lecto divina,saison athene,pays soleil samuel adams boston wit,black coastal latitude ipa limited reaeases bock octoberfest,harvest,noble pilsner,imp.white,pumpkin saranac wheat,seasonal paw wheat,alimony shipyard export thumper seasonal:pumpkinhead sierra nevada torpedokellerweisse summerfest anniversary celebration bigfoot barleywine,tumbler,celebration southern hemisphere harvest,estate,torpedo sly fox dunkel weisse odyssey incubus smirnoff illinois fusion watermelon burst grape,ice smuttynose hampshire shoals robust porter,seasonal hanami smuttonator doublebock sprecher russian bavarian pub pipers southampton porter(winter bier mars(spring keller pils(summer),pumpkin ale(fall tier phin matt's ale,pale wheat,2x ipa,porter releases:harvest rasoberry ale,hop hoppe pale,unearthly dipa,big iniguity gemini aged unearthly,backburner strong farmers tan,heavy weizen,pumking,krampus,choklat jahva,mokah,creme brulee,imperial oat cuvee speakeasy prohibition daddy untouchable godfather lightning stillwater maryland celler door series,autumnal existential stateside saision imported series:of regret darkly.limited brews:rauchstar,jaded,debutant,debauched stone ale,ruination oaked arragant bastard levitation smoked porter,cali belgique sublimely righteous specail guardian,imperial stout,anniversary vertical epic stoudt's scarlet big beers:fat triple,seasonals smooth hoperator heifer-in-wheat oktober fest summit ale,ipa northern porter,horizon red,pilsner maibock(spring hefeweizen(summer octoberfest(fall tailgate wave telegraph bruery orchard rugbrod ale,,saison rue,tradewinds triple seasonals;saison lente(spring),autmn maple calling birds(christmas thomas hooker connecticut red,hop meadow ipa,american ale,seasonal oktoberfest(september-october liberator doppelbock,nor easter(november-february watermelon(may tommy knocker pick axe ale,jack whacker wheat,ornery lager,imperial brown butthead seasonals:cocoa porter(winter),tundrabeary(summer troegs hopback rugged dreamweaver troegenator seasonals:nugget nectar sunshine reckoning limited releases:java stout,flying mouflan perpetual brothers cane ebel,domaine dupage bitter end,ebelweiss seasonals:monarch wit,dog lager,heavy handed northwind dipa uinta notch hoodoo kings peak hazel baba sheep monkshine dibhe wyld trader hyve sum'r punk'n crooked line cockeyed cooper tilted smile detour labyrinth uncommon cdalifornia state siamese twin victory devil,hopwallop,prima pils,lager,golden monkey,stormking twelve,baltic thunder,helios headwaters seasonals:yakima glory,st victorious(january-febuary)whirlwind witbier,st boisterous march-april)summer sunrise(may-august)festbier,moonglow weizenbock(stptember-october)yakima glory horizontal(november-december voodoo gran magick child season pilzilla wynona's limited:big years weyerbacher merry monks,last chance ipa,old heathen,blithering idiot,double simcoe line fireside(january heresy(limited),insanity(limited),slam tiny(febuary),blanche((april/may),,anniversary june),autumnfest(august),imperial pumpkin(july-september ale(september),winter ale(october-december),quad(november-december birch hampshier onion paddy williamsburg alewerks virginia chesapeake drake barlewine marker ale,travern ale,washington's seasonal:pumpkin woodchuck ciders cider dry granny smith pear yards brawler ale,extra spacial ipa,ales revolution seasonal:saison yuengling premium lord chesterfield tooheys toohey's foster's halida san miguel singha tsing tao breweries kingfisher brasserie l'abbaye rocs bruehaut martin dark,blond,triple,cuvee noel,brunehaut,abby amand,mont aubert kopstoot head butt rulles noel brouwerij anker gouden carolus huyghe artevelde delirium tremens nocternum floris framboise regenboog vuuve senne taras boulba,very speciale belge vapeur cochonnette botteresse blond,amber,noire van steenberge gulden draak piraat verhaeghe duchesse bourgogne bosteels deus kwak karmeliet cantillon gueuze kriek rose gambrinus bruocsella iris vigeronne lamvinus lou pepe beer club stock caracole nostradamus chimay premiere cinq cents grande chouffe mcchouffe houblon n'ice corsendonk dolle brouwers stille nacht arabier boskuen dulle oerbier reserva koninck proef angelique,mystique,lunatique,euphorque,k-o blond,flemish primitive,slaapmutski nightcap,van dupont moinette brune avec bon voeux duvel gaverhopke singing blond huisbrouwerij sint canarus potteloereke conteras valier donker divers cazeau tournay noir botteresse ambree dochter von korenaar noblesse embrasse bravour grimbergen gruut hoegaarden witbier kasteel rouge leffe lefebrve blanche bruxells barbar floreffe lindemans cassis pomme peche,guze maredsous bruin oud beersel orval trappist picobrouwerij alvinne podge ranke xx ranke,guldenberg,kriek trappistes rochefort rodenbach original redbach bernardus abt prior pater watou feuillien stella artois strubbe ichtegem's urthel hop-it vlaemse samaranth val-dieu alternatief piet-agoras,hik hik eerwaarde westmalle t'brouwkot netebuk manten kalle bockor bellegms drie fontanen oude geuze,oude kriek,schaersbeek alexander keith's nova scotia vancouver b.c ipa,lager,pale dieu ciel montréal quebec peche mortel devil's rosee d'hibiscus derniere volante route epices aphordites d'hiver labatt ontario molson toronto canadian molsongolden,molson xxx unibroue chambly maudite monde trois pistoles ephemere seigneuriale terrible quelque chose alhambra negra almaza pilsener amstell bmf-basserie franches montagnes abbaye bon chien alex baltika carlsberg elephant efes farson's lacto grieskirchner hefe-weizen grolsch haand norwegian wood force,norse dobbel dram mikkeller geek breakfast,beer brunch,beer breackfast struisse-mikkeller nogne-o ale,porter sweet horzion,sunturnbrew olfabrikken okocim ok perla malt liquor urquel pripp's carnegie porterhouse oyster wrassler's xxxx lezajsk lomza wyborowe mocne rinkuskiai alaus darykla lobsters lovers,aiko zhiguly werewolf befor-after svyturys ale,red ale,maksimium unfiltered raw,ekstra adler taps kolsch,vienna smoke tatra utenos brewed twice supply zywiec lager,porter abbot coq's holy grail riggwelter ale,black bateman xxxb george combined beamish boddingtons punk,hard core tokio,paradox,storm charles wells banana bread bombadier coniston bluebird bitter,blubird xb fuller's pride vintage gales prised king morland hen's tooth speckled guinness draught foreign harvey's elizabethan hook norton hooky bitter,hooky hookey jw lees meantime murphy's ridgeway bitter,oxfordshier,ipa,ivanhoe ale,foreign pure taddy peter's english old-style tanner jack wychwood hobgoblin wychcraft scarecrow fiddler's elbow seasonal:bah humbug young's choulette sans culottes seasonal:noel ciderie duche longueville clos normand duyck jenlain druon d'orge belzebuth castalain thiriez cochonne pipaix pietra corse meteor wendilinus,blanche meteor,blond d'alsace berliner weissse aktien hell,maibock,weizenbock,hefe aecht schlenkerla rauch urbock,wheat helles augustiner brau edelstoff maximator ayinger celebrator brau-weisse ur-weisse jahrhundert-bier altbairisch beck's becks oktoberfest binding radeberger clausthaler non-alcoholic bischoff privatbrauerei maibock weissen cristal weissen bitburger dinkel acker cd-pils einbecker pilsner,schwartzbier erdinger weissbier flensbuger brauerei franzikaner hefeweisse gaffel becker kolsh hacker-pschorr lger seasonal:oktoberfest hofbrauhaus innstadt edelsud,neues helles,passaoer weisse,bockweisse,extra schwarze stadl bier,double d'instaade klosterbauerei ettaler.dunkel konig kostritzer scharzbier kulmbacher eisbock,kapuziner kapuziner monchschof leipziger gose lowenbrau mahr's braeu ungespundet seasonal:jubelfest paulaner lager,hefe-weizen salvator doppelbock reissdorf rauchbier urbock lagerbier schneider aventinus aventinus eisbock,organicweissenedel-weisse,hopfen spaten optimator michealsberg kellerbier pauli girl sunner koelsch warsteiner verum weihenstephan hefeweissbier kristallweissbier korbinian festbier vitus uerige stick weltenburger kloster asam weisbier barack wolters wurzburger julius echter juilus dubnkel birra borgo genziana birrificio baladin super nora,isaac seasonal:noel birrifico montegioco draco quarta runa demon hunter panil barriquee troll shangrila italiano cassissona,scires ducato verdi imperial stout,chimera,seasonal krampus pausa cafe p.i.l.s.,chicca,martina,taquamari,tosta beba toro moretti asahi coedo beniaka kyara ruri shikkoku shiro kiuchi hitachino nest beer.hitachino rice ale,hitachino xh japanese kirin ichiban orion koshihikaru sapporo cerveceria cuauhtemoc moctezuma sol tecate dos equis grupo modelo especial pacifico palma loucs brazil desnoes geddes stripe eisenbahn escura nacional dominicana dominican presidente xingu broad street • bethlehem open everyday midnight hear website design taylor\n"
          ]
        }
      ]
    },
    {
      "cell_type": "code",
      "source": [
        "# https://github.com/Jainu-s/urldata/tree/master/al\n",
        "# https://github.com/JyothsnaGH/PythonforFinance/blob/main/clifford.txt\n",
        "master = \"https://raw.githubusercontent.com/JyothsnaGH/PythonforFinance/main/clifford.txt\"\n",
        "req = requests.get(master)\n",
        "req = req.text\n",
        "print(req)"
      ],
      "metadata": {
        "id": "A55zTlDJ_1n-",
        "colab": {
          "base_uri": "https://localhost:8080/"
        },
        "outputId": "a81bb3c6-bed1-4494-f7e6-16ad3f74ca3e"
      },
      "execution_count": 17,
      "outputs": [
        {
          "output_type": "stream",
          "name": "stdout",
          "text": [
            "Lady Anne Clifford, Countess of Dorset, Pembroke and Montgomery, suo jure 14th Baroness de Clifford (30 January 1590 – 22 March 1676)[3] was an English peeress. In 1605 she inherited her father's ancient barony by writ and became suo jure 14th Baroness de Clifford. She was a patron of literature and as evidenced by her diary and many letters was a literary personage in her own right. She held the hereditary office of High Sheriff of Westmorland which role she exercised from 1653 to 1676.[4]\n",
            "\n",
            "Early years\n",
            "Lady Anne was born on 30 January 1590 in Skipton Castle, and was baptised the following 22 February in Holy Trinity Church in Skipton in the West Riding of Yorkshire.[4] She was the only surviving child and sole heiress of George Clifford, 3rd Earl of Cumberland (1558–1605) of Appleby Castle in Westmorland and of Skipton Castle, by his wife, Lady Margaret Russell, daughter of Francis Russell, 2nd Earl of Bedford.[4]\n",
            "\n",
            "Her parents' marriage was soured by the deaths of Anne's two elder brothers before the ages of 5 and her parents lived apart for most of her childhood. The strain of the marriage was seen in the public realm as well, especially after the separation. Her father maintained an important position at the court of Elizabeth I, while her mother received no recognition in regard to her husband at court. As her parents were separated, her mother maintained a matriarchal position in her house, for the family was kept under her care.[5]\n"
          ]
        }
      ]
    },
    {
      "cell_type": "code",
      "source": [
        "!git clone https://github.com/JyothsnaGH/PythonforFinance.git"
      ],
      "metadata": {
        "id": "Pi0f-q8nsHuc",
        "colab": {
          "base_uri": "https://localhost:8080/"
        },
        "outputId": "60298fe6-30d2-46b3-f4f4-9d097acf2fdf"
      },
      "execution_count": 18,
      "outputs": [
        {
          "output_type": "stream",
          "name": "stdout",
          "text": [
            "Cloning into 'PythonforFinance'...\n",
            "remote: Enumerating objects: 76, done.\u001b[K\n",
            "remote: Counting objects: 100% (76/76), done.\u001b[K\n",
            "remote: Compressing objects: 100% (73/73), done.\u001b[K\n",
            "remote: Total 76 (delta 40), reused 0 (delta 0), pack-reused 0 (from 0)\u001b[K\n",
            "Receiving objects: 100% (76/76), 44.00 KiB | 850.00 KiB/s, done.\n",
            "Resolving deltas: 100% (40/40), done.\n"
          ]
        }
      ]
    },
    {
      "metadata": {
        "id": "kCchv9uQ_hRZ"
      },
      "cell_type": "markdown",
      "source": [
        "## Overview of Numpy\n",
        "\n",
        "- NumPy is a free, open-source Python library that provides support for multi-dimensional arrays and mathematical operations.\n",
        "- Numpy is often useful for data science.\n",
        "- A NumPy array is a powerful data structure in Python provided by the NumPy library.\n",
        "- You can slice an array just like a list.\n",
        "- Numpy is imported as `np`.\n",
        "- Unlike lists, all elements in a NumPy array must be of the same data type.\n",
        "\n"
      ]
    },
    {
      "metadata": {
        "id": "9kdAxrfl_hRb",
        "colab": {
          "base_uri": "https://localhost:8080/"
        },
        "outputId": "ae82a960-d836-46ff-cf31-c1b4c047f8e2"
      },
      "cell_type": "code",
      "source": [
        "import numpy as np\n",
        "a = np.array([0, 10, 22, 35, 47, 52, 69])\n",
        "print('Print the entire array:', a)\n",
        "print('Print the first value:', a[0])\n",
        "print('Print the first three value:', a[0:3])\n",
        "print('Print the last value of a numpy array:', a[-1])\n"
      ],
      "execution_count": 19,
      "outputs": [
        {
          "output_type": "stream",
          "name": "stdout",
          "text": [
            "Print the entire array: [ 0 10 22 35 47 52 69]\n",
            "Print the first value: 0\n",
            "Print the first three value: [ 0 10 22]\n",
            "Print the last value of a numpy array: 69\n"
          ]
        }
      ]
    },
    {
      "cell_type": "code",
      "source": [
        "# print the largest value of a numpy array\n",
        "a = np.array([0, 110, 242, -65, -4, 435, -567, 100, 99])\n"
      ],
      "metadata": {
        "id": "H6VLfIUJIPZa"
      },
      "execution_count": 20,
      "outputs": []
    },
    {
      "metadata": {
        "id": "_2PE5VX-_hRj"
      },
      "cell_type": "markdown",
      "source": [
        "## Arrays and Functions\n",
        "- A really powerful aspect of arrays is the capability to do calculations over arrays.\n",
        "- List of Numpy functions: https://numpy.org/doc/2.1/reference/routines.math.html\n"
      ]
    },
    {
      "metadata": {
        "id": "RFdXPJVc_hRk",
        "colab": {
          "base_uri": "https://localhost:8080/"
        },
        "outputId": "c2f5ae90-b5e7-4f9f-95ea-1761018e6bca"
      },
      "cell_type": "code",
      "source": [
        "import numpy as np\n",
        "a = np.array([1, 2, 3, 4, 5, 6])\n",
        "b1=10*a\n",
        "b2=np.multiply(10,a)\n",
        "c=a+b1 # c2=np.add(a,b1) #This is an alternate way of adding\n",
        "d=np.log(a)\n",
        "e=np.sqrt(a)\n",
        "f=a**2  #This squares the value.\n",
        "\n",
        "np.square([-1j, 1])\n",
        "print('Print a:', a)\n",
        "print('Print b1:', b1)\n",
        "print('Print b2:', b2)\n",
        "print('Print c:', c)\n",
        "print('Print d:', d)\n",
        "print('Print e:', e)\n",
        "print('Print f:', f)"
      ],
      "execution_count": 23,
      "outputs": [
        {
          "output_type": "stream",
          "name": "stdout",
          "text": [
            "Print a: [1 2 3 4 5 6]\n",
            "Print b1: [10 20 30 40 50 60]\n",
            "Print b2: [10 20 30 40 50 60]\n",
            "Print c: [11 22 33 44 55 66]\n",
            "Print d: [0.         0.69314718 1.09861229 1.38629436 1.60943791 1.79175947]\n",
            "Print e: [1.         1.41421356 1.73205081 2.         2.23606798 2.44948974]\n",
            "Print f: [ 1  4  9 16 25 36]\n"
          ]
        }
      ]
    },
    {
      "metadata": {
        "id": "U197rHLc_hR6"
      },
      "cell_type": "markdown",
      "source": [
        "## Slicing Single Dimension Numpy Arrays\n",
        "- Slicing arrays includes  three numbers `a[start:stop:step]` but not all are required.\n",
        "- Defaults: start =0, end =last and step is 1.\n",
        "- To print the entire array, leave start/stop/step blank`a[::]`\n"
      ]
    },
    {
      "metadata": {
        "id": "dLzVeE37_hR7",
        "colab": {
          "base_uri": "https://localhost:8080/"
        },
        "outputId": "d5ac6e0e-3875-44d3-abb4-9c69f00f8a08"
      },
      "cell_type": "code",
      "source": [
        "e= np.arange( 0, 15, 1 )\n",
        "print(e)\n",
        "#[start:end:step]\n",
        "\n",
        "\n",
        "print(\"This is the start, end, and step:\",e[2:9:3])\n",
        "print(\"Print every other:\",e[::2])\n",
        "print(\"Print starting at 2 and ending at 9, default step 1:\",e[2:9])\n",
        "print(\"Print all:\",e[::])\n",
        "print(\"Print all:\",e[:])\n",
        "print(\"Print all:\",e)"
      ],
      "execution_count": 24,
      "outputs": [
        {
          "output_type": "stream",
          "name": "stdout",
          "text": [
            "[ 0  1  2  3  4  5  6  7  8  9 10 11 12 13 14]\n",
            "This is the start, end, and step: [2 5 8]\n",
            "Print every other: [ 0  2  4  6  8 10 12 14]\n",
            "Print starting at 2 and ending at 9, default step 1: [2 3 4 5 6 7 8]\n",
            "Print all: [ 0  1  2  3  4  5  6  7  8  9 10 11 12 13 14]\n",
            "Print all: [ 0  1  2  3  4  5  6  7  8  9 10 11 12 13 14]\n",
            "Print all: [ 0  1  2  3  4  5  6  7  8  9 10 11 12 13 14]\n"
          ]
        }
      ]
    },
    {
      "metadata": {
        "id": "2_6zpEVC_hRo"
      },
      "cell_type": "markdown",
      "source": [
        "## Creating and Manipulating Numpy Arrays\n",
        "- The arrange function will generate an array.\n",
        "- Reshape changes the structure of the array to n rows and m columns.\n",
        "    `a=a.reshape(n, m)`\n",
        "-`ones` will create an array with all ones and `zeros` with all zeros.\n",
        "- Reshaping can get it in the appropriate structure, but make sure that the size fits the appropriate dimensions."
      ]
    },
    {
      "metadata": {
        "id": "CADzhCII_hRp",
        "colab": {
          "base_uri": "https://localhost:8080/"
        },
        "outputId": "f340ed4b-9ecc-40c3-9793-e21debdbccf4"
      },
      "cell_type": "code",
      "source": [
        "import numpy as np\n",
        "#a = np.arange(15)\n",
        "#print(a)\n",
        "#a2 = np.arange( 0, 15, 1) #Alternate specification with np.arrange(start, end, step)\n",
        "#print(a2)\n",
        "#a=a.reshape(3, 5)\n",
        "#print(a)\n",
        "b= np.ones(shape=(3, 5), dtype=float)\n",
        "print(b)\n",
        "c= np.zeros(shape=(3, 5), dtype=int)\n",
        "print('c', c)\n",
        "d= np.full((3, 5), 4, dtype=int)\n",
        "print('d', d)\n",
        "e= np.arange( 0, 1.5, .1 ).reshape(3,5)  #String together creations and reshaping. Also can use decimals.\n",
        "print(e)"
      ],
      "execution_count": 28,
      "outputs": [
        {
          "output_type": "stream",
          "name": "stdout",
          "text": [
            "[[1. 1. 1. 1. 1.]\n",
            " [1. 1. 1. 1. 1.]\n",
            " [1. 1. 1. 1. 1.]]\n",
            "c [[0 0 0 0 0]\n",
            " [0 0 0 0 0]\n",
            " [0 0 0 0 0]]\n",
            "d [[4 4 4 4 4]\n",
            " [4 4 4 4 4]\n",
            " [4 4 4 4 4]]\n",
            "[[0.  0.1 0.2 0.3 0.4]\n",
            " [0.5 0.6 0.7 0.8 0.9]\n",
            " [1.  1.1 1.2 1.3 1.4]]\n"
          ]
        }
      ]
    },
    {
      "metadata": {
        "id": "HH9MlXGG_hRr"
      },
      "cell_type": "code",
      "source": [
        "e= np.arange( 0, 1.5, .1 ).reshape(3,5)"
      ],
      "execution_count": 29,
      "outputs": []
    },
    {
      "metadata": {
        "id": "W4FZippX_hRu"
      },
      "cell_type": "markdown",
      "source": [
        "## Generating Random Numpy Data\n",
        "- This is often useful, and we will be using it to demonstrate some initial techniques.\n",
        "- Often you want random but repeatable results, so that for example a test could have a consistent average on a random array. For this we need to set a seed. You only have to do this once.\n",
        "\n"
      ]
    },
    {
      "metadata": {
        "id": "H7kJvOUa_hRv",
        "colab": {
          "base_uri": "https://localhost:8080/"
        },
        "outputId": "84104ce6-5eb4-499e-890a-44cf0c019b38"
      },
      "cell_type": "code",
      "source": [
        "\n",
        "a = np.random.uniform(50, 150, 10)  #Between 50-150, generate 10 variables from uniform\n",
        "b = np.random.standard_normal(10)   #With mean 0 and standard deviation 1\n",
        "print(a)\n",
        "print(b)\n",
        "\n"
      ],
      "execution_count": 30,
      "outputs": [
        {
          "output_type": "stream",
          "name": "stdout",
          "text": [
            "[ 88.85379999 106.29746117 118.28055732  50.0985234  119.28147265\n",
            "  91.85079741 100.60680565  92.95073924 115.48172356 130.35407671]\n",
            "[-0.6532238   0.37152642  1.23917473 -1.25197285  0.60271041  0.55262541\n",
            " -0.31106375  0.08163154  1.27958386  1.03835656]\n"
          ]
        }
      ]
    },
    {
      "metadata": {
        "id": "QTgwI3bH_hRz"
      },
      "cell_type": "markdown",
      "source": [
        "## Combining Numpy Arrays\n",
        "- `concatenate` will string a list of numpy arrays together `np.concatenate([a,b])`\n",
        "- `vstack` will stack numpy arrays\n",
        "- Defaults: start =0, end =last and step is 1.\n",
        "- To print the entire array, leave start/stop/step blank`a[::]`"
      ]
    },
    {
      "metadata": {
        "id": "L649dTr9_hR0",
        "colab": {
          "base_uri": "https://localhost:8080/"
        },
        "outputId": "e7515a36-58a2-4254-bdbc-4ac3c8eb2903"
      },
      "cell_type": "code",
      "source": [
        "a = np.arange(5)\n",
        "b=np.concatenate([a,a])\n",
        "c=np.vstack([a,a])\n",
        "d=np.hstack([a,a])\n",
        "print('a:',a,'\\nb:',b,'\\nc:',c,'\\nd:',d)\n"
      ],
      "execution_count": 31,
      "outputs": [
        {
          "output_type": "stream",
          "name": "stdout",
          "text": [
            "a: [0 1 2 3 4] \n",
            "b: [0 1 2 3 4 0 1 2 3 4] \n",
            "c: [[0 1 2 3 4]\n",
            " [0 1 2 3 4]] \n",
            "d: [0 1 2 3 4 0 1 2 3 4]\n"
          ]
        }
      ]
    },
    {
      "metadata": {
        "id": "O_NtF7vm_hSA"
      },
      "cell_type": "markdown",
      "source": [
        "## Numpy Arrays From External Datasets\n",
        "- We can take a list from an external dataset and change it to an numpy array."
      ]
    },
    {
      "metadata": {
        "id": "1k6gEZz5_sej",
        "colab": {
          "base_uri": "https://localhost:8080/"
        },
        "outputId": "1c574475-ea7f-4686-f43a-b232c863d952"
      },
      "cell_type": "code",
      "source": [
        "# let's download the iris dataset.\n",
        "\n",
        "!wget https://raw.githubusercontent.com/JyothsnaGH/PythonforFinance/main/files/iris.csv"
      ],
      "execution_count": 32,
      "outputs": [
        {
          "output_type": "stream",
          "name": "stdout",
          "text": [
            "--2025-01-30 22:37:55--  https://raw.githubusercontent.com/JyothsnaGH/PythonforFinance/main/files/iris.csv\n",
            "Resolving raw.githubusercontent.com (raw.githubusercontent.com)... 185.199.108.133, 185.199.109.133, 185.199.110.133, ...\n",
            "Connecting to raw.githubusercontent.com (raw.githubusercontent.com)|185.199.108.133|:443... connected.\n",
            "HTTP request sent, awaiting response... 200 OK\n",
            "Length: 2734 (2.7K) [text/plain]\n",
            "Saving to: ‘iris.csv’\n",
            "\n",
            "iris.csv            100%[===================>]   2.67K  --.-KB/s    in 0s      \n",
            "\n",
            "2025-01-30 22:37:55 (36.8 MB/s) - ‘iris.csv’ saved [2734/2734]\n",
            "\n"
          ]
        }
      ]
    },
    {
      "metadata": {
        "id": "PB_NE93d_hSD"
      },
      "cell_type": "code",
      "source": [
        "import csv\n",
        "csv_file = csv.reader(open('iris.csv', newline=''), delimiter=',')\n",
        "\n",
        "data=[]\n",
        "header = next(csv_file) #\n",
        "for row in csv_file:\n",
        "    data.append(row)  # add each row to data\n",
        "data = np.array(data)\n",
        "#print(data)"
      ],
      "execution_count": 40,
      "outputs": []
    },
    {
      "metadata": {
        "id": "i-PumliT_hSG"
      },
      "cell_type": "markdown",
      "source": [
        "## Slicing 2 Dimensional Numpy Arrays\n",
        "- We can slice arrays with `array[row, column]` were row and column each include the (start:stop:step) like in arrays\n",
        "- We can sepecify the type with the `.astype(np.float_)`\n",
        "- For a full list of Numpy types, see [documentation](http://docs.scipy.org/doc/numpy-1.10.1/user/basics.types.html)\n",
        "- If we create a one dimensional array from 2 dimensional numpy array, it will also be a numpy array of same type.\n"
      ]
    },
    {
      "metadata": {
        "id": "fPBzi-R7_hSI"
      },
      "cell_type": "code",
      "source": [
        "#We can slice the array several different ways and generate new variables.\n",
        "\n",
        "irisdata=data[0::,0:4:].astype(np.float_)  #This will select only the first 4 columns and change the type to float\n",
        "irisdata=data[:,0:4].astype(np.float_)\n",
        "iristype=data[0:,4:5] # selecting all rows, only column 4, which is the type (virginica).\n",
        "# print(irisdata,'\\n',iristype)"
      ],
      "execution_count": 34,
      "outputs": []
    },
    {
      "cell_type": "code",
      "source": [
        "#get the first 20 columns and first 3 dolunms of data as string\n",
        "iristy=data[0:20,0:3].astype(np.str_)\n",
        "#iristy\n",
        "\n"
      ],
      "metadata": {
        "id": "D2xSRgFiYIxe"
      },
      "execution_count": 46,
      "outputs": []
    },
    {
      "metadata": {
        "id": "dq6ZEeFY_hSK",
        "colab": {
          "base_uri": "https://localhost:8080/",
          "height": 326
        },
        "outputId": "80a36858-6114-4722-c773-33e5022ac7e0"
      },
      "cell_type": "code",
      "source": [
        "#This can be used to select column 1 and assign to new variable.\n",
        "# Find the sum of column 1\n",
        "newvariable=irisdata[::,0:1:]\n",
        "\n",
        "#This can be used to select column 1 and assign to new variable.\n",
        "# Find the sum of column 1\n",
        "newvariable=irisdata[::,0:1:]\n",
        "\n",
        "#This will sum up column 0\n",
        "final=irisdata[::,0:1:].sum() # alternative\n",
        "final2=irisdata[:,0:1].sum() # much cleaner\n",
        "type(newvariable)\n",
        "#print(newvariable)\n",
        "print(final)\n",
        "print(final2)\n",
        "print(final)\n",
        "print(final2)"
      ],
      "execution_count": 53,
      "outputs": [
        {
          "output_type": "error",
          "ename": "UFuncTypeError",
          "evalue": "ufunc 'add' did not contain a loop with signature matching types (dtype('<U3'), dtype('<U3')) -> None",
          "traceback": [
            "\u001b[0;31m---------------------------------------------------------------------------\u001b[0m",
            "\u001b[0;31mUFuncTypeError\u001b[0m                            Traceback (most recent call last)",
            "\u001b[0;32m<ipython-input-53-d24774b33723>\u001b[0m in \u001b[0;36m<cell line: 0>\u001b[0;34m()\u001b[0m\n\u001b[1;32m      8\u001b[0m \u001b[0;34m\u001b[0m\u001b[0m\n\u001b[1;32m      9\u001b[0m \u001b[0;31m#This will sum up column 0\u001b[0m\u001b[0;34m\u001b[0m\u001b[0;34m\u001b[0m\u001b[0m\n\u001b[0;32m---> 10\u001b[0;31m \u001b[0mfinal\u001b[0m\u001b[0;34m=\u001b[0m\u001b[0mirisdata\u001b[0m\u001b[0;34m[\u001b[0m\u001b[0;34m:\u001b[0m\u001b[0;34m:\u001b[0m\u001b[0;34m,\u001b[0m\u001b[0;36m0\u001b[0m\u001b[0;34m:\u001b[0m\u001b[0;36m1\u001b[0m\u001b[0;34m:\u001b[0m\u001b[0;34m]\u001b[0m\u001b[0;34m.\u001b[0m\u001b[0msum\u001b[0m\u001b[0;34m(\u001b[0m\u001b[0;34m)\u001b[0m \u001b[0;31m# alternative\u001b[0m\u001b[0;34m\u001b[0m\u001b[0;34m\u001b[0m\u001b[0m\n\u001b[0m\u001b[1;32m     11\u001b[0m \u001b[0mfinal2\u001b[0m\u001b[0;34m=\u001b[0m\u001b[0mirisdata\u001b[0m\u001b[0;34m[\u001b[0m\u001b[0;34m:\u001b[0m\u001b[0;34m,\u001b[0m\u001b[0;36m0\u001b[0m\u001b[0;34m:\u001b[0m\u001b[0;36m1\u001b[0m\u001b[0;34m]\u001b[0m\u001b[0;34m.\u001b[0m\u001b[0msum\u001b[0m\u001b[0;34m(\u001b[0m\u001b[0;34m)\u001b[0m \u001b[0;31m# much cleaner\u001b[0m\u001b[0;34m\u001b[0m\u001b[0;34m\u001b[0m\u001b[0m\n\u001b[1;32m     12\u001b[0m \u001b[0mtype\u001b[0m\u001b[0;34m(\u001b[0m\u001b[0mnewvariable\u001b[0m\u001b[0;34m)\u001b[0m\u001b[0;34m\u001b[0m\u001b[0;34m\u001b[0m\u001b[0m\n",
            "\u001b[0;32m/usr/local/lib/python3.11/dist-packages/numpy/core/_methods.py\u001b[0m in \u001b[0;36m_sum\u001b[0;34m(a, axis, dtype, out, keepdims, initial, where)\u001b[0m\n\u001b[1;32m     47\u001b[0m def _sum(a, axis=None, dtype=None, out=None, keepdims=False,\n\u001b[1;32m     48\u001b[0m          initial=_NoValue, where=True):\n\u001b[0;32m---> 49\u001b[0;31m     \u001b[0;32mreturn\u001b[0m \u001b[0mumr_sum\u001b[0m\u001b[0;34m(\u001b[0m\u001b[0ma\u001b[0m\u001b[0;34m,\u001b[0m \u001b[0maxis\u001b[0m\u001b[0;34m,\u001b[0m \u001b[0mdtype\u001b[0m\u001b[0;34m,\u001b[0m \u001b[0mout\u001b[0m\u001b[0;34m,\u001b[0m \u001b[0mkeepdims\u001b[0m\u001b[0;34m,\u001b[0m \u001b[0minitial\u001b[0m\u001b[0;34m,\u001b[0m \u001b[0mwhere\u001b[0m\u001b[0;34m)\u001b[0m\u001b[0;34m\u001b[0m\u001b[0;34m\u001b[0m\u001b[0m\n\u001b[0m\u001b[1;32m     50\u001b[0m \u001b[0;34m\u001b[0m\u001b[0m\n\u001b[1;32m     51\u001b[0m def _prod(a, axis=None, dtype=None, out=None, keepdims=False,\n",
            "\u001b[0;31mUFuncTypeError\u001b[0m: ufunc 'add' did not contain a loop with signature matching types (dtype('<U3'), dtype('<U3')) -> None"
          ]
        }
      ]
    },
    {
      "metadata": {
        "id": "C8e3xNXx_hSN",
        "colab": {
          "base_uri": "https://localhost:8080/"
        },
        "outputId": "643dd415-346e-48b3-9a72-e09e7afefd82"
      },
      "cell_type": "code",
      "source": [
        "#  mean of column 1\n",
        "print('mean:', irisdata[::,0:1:].mean())\n",
        "irisdata[:,0:1].mean()\n"
      ],
      "execution_count": 36,
      "outputs": [
        {
          "output_type": "stream",
          "name": "stdout",
          "text": [
            "mean: 5.843333333333334\n"
          ]
        },
        {
          "output_type": "execute_result",
          "data": {
            "text/plain": [
              "5.843333333333334"
            ]
          },
          "metadata": {},
          "execution_count": 36
        }
      ]
    },
    {
      "cell_type": "code",
      "source": [
        "# mean of row 3\n",
        "irisdata[2:3,:].mean()"
      ],
      "metadata": {
        "id": "s02tTmXhaZG8"
      },
      "execution_count": null,
      "outputs": []
    },
    {
      "cell_type": "markdown",
      "source": [
        "## UCI Machine Learning Data Repository\n",
        "\n",
        "We can download a few datasets (suitable for machine learning purposes) using the UC Irvine Machine Learning Repository. Check this [link](https://archive.ics.uci.edu/) out for other datasets.\n",
        "\n",
        "The iris.csv dataset is automatically available on this website. The cool thing is, we do not need to download the csv file Github - we can load it directly from the UCI archive!*italicized text*"
      ],
      "metadata": {
        "id": "4DjJgPFtzsuk"
      }
    },
    {
      "cell_type": "code",
      "source": [
        "!pip install ucimlrepo\n",
        "from ucimlrepo import fetch_ucirepo\n",
        "\n",
        "# fetch dataset\n",
        "iris = fetch_ucirepo(id=53)\n",
        "\n",
        "# data (as pandas dataframes)\n",
        "X = iris.data.features\n",
        "y = iris.data.targets\n",
        "\n",
        "# metadata\n",
        "print(iris.metadata)\n",
        "\n",
        "# variable information\n",
        "print(iris.variables)\n"
      ],
      "metadata": {
        "id": "R86bmAuG_1zk",
        "colab": {
          "base_uri": "https://localhost:8080/"
        },
        "outputId": "128f23e5-1534-4299-9903-49b6223508cc"
      },
      "execution_count": 37,
      "outputs": [
        {
          "output_type": "stream",
          "name": "stdout",
          "text": [
            "Collecting ucimlrepo\n",
            "  Downloading ucimlrepo-0.0.7-py3-none-any.whl.metadata (5.5 kB)\n",
            "Requirement already satisfied: pandas>=1.0.0 in /usr/local/lib/python3.11/dist-packages (from ucimlrepo) (2.2.2)\n",
            "Requirement already satisfied: certifi>=2020.12.5 in /usr/local/lib/python3.11/dist-packages (from ucimlrepo) (2024.12.14)\n",
            "Requirement already satisfied: numpy>=1.23.2 in /usr/local/lib/python3.11/dist-packages (from pandas>=1.0.0->ucimlrepo) (1.26.4)\n",
            "Requirement already satisfied: python-dateutil>=2.8.2 in /usr/local/lib/python3.11/dist-packages (from pandas>=1.0.0->ucimlrepo) (2.8.2)\n",
            "Requirement already satisfied: pytz>=2020.1 in /usr/local/lib/python3.11/dist-packages (from pandas>=1.0.0->ucimlrepo) (2024.2)\n",
            "Requirement already satisfied: tzdata>=2022.7 in /usr/local/lib/python3.11/dist-packages (from pandas>=1.0.0->ucimlrepo) (2025.1)\n",
            "Requirement already satisfied: six>=1.5 in /usr/local/lib/python3.11/dist-packages (from python-dateutil>=2.8.2->pandas>=1.0.0->ucimlrepo) (1.17.0)\n",
            "Downloading ucimlrepo-0.0.7-py3-none-any.whl (8.0 kB)\n",
            "Installing collected packages: ucimlrepo\n",
            "Successfully installed ucimlrepo-0.0.7\n",
            "{'uci_id': 53, 'name': 'Iris', 'repository_url': 'https://archive.ics.uci.edu/dataset/53/iris', 'data_url': 'https://archive.ics.uci.edu/static/public/53/data.csv', 'abstract': 'A small classic dataset from Fisher, 1936. One of the earliest known datasets used for evaluating classification methods.\\n', 'area': 'Biology', 'tasks': ['Classification'], 'characteristics': ['Tabular'], 'num_instances': 150, 'num_features': 4, 'feature_types': ['Real'], 'demographics': [], 'target_col': ['class'], 'index_col': None, 'has_missing_values': 'no', 'missing_values_symbol': None, 'year_of_dataset_creation': 1936, 'last_updated': 'Tue Sep 12 2023', 'dataset_doi': '10.24432/C56C76', 'creators': ['R. A. Fisher'], 'intro_paper': {'ID': 191, 'type': 'NATIVE', 'title': 'The Iris data set: In search of the source of virginica', 'authors': 'A. Unwin, K. Kleinman', 'venue': 'Significance, 2021', 'year': 2021, 'journal': 'Significance, 2021', 'DOI': '1740-9713.01589', 'URL': 'https://www.semanticscholar.org/paper/4599862ea877863669a6a8e63a3c707a787d5d7e', 'sha': None, 'corpus': None, 'arxiv': None, 'mag': None, 'acl': None, 'pmid': None, 'pmcid': None}, 'additional_info': {'summary': 'This is one of the earliest datasets used in the literature on classification methods and widely used in statistics and machine learning.  The data set contains 3 classes of 50 instances each, where each class refers to a type of iris plant.  One class is linearly separable from the other 2; the latter are not linearly separable from each other.\\n\\nPredicted attribute: class of iris plant.\\n\\nThis is an exceedingly simple domain.\\n\\nThis data differs from the data presented in Fishers article (identified by Steve Chadwick,  spchadwick@espeedaz.net ).  The 35th sample should be: 4.9,3.1,1.5,0.2,\"Iris-setosa\" where the error is in the fourth feature. The 38th sample: 4.9,3.6,1.4,0.1,\"Iris-setosa\" where the errors are in the second and third features.  ', 'purpose': 'N/A', 'funded_by': None, 'instances_represent': 'Each instance is a plant', 'recommended_data_splits': None, 'sensitive_data': None, 'preprocessing_description': None, 'variable_info': None, 'citation': None}}\n",
            "           name     role         type demographic  \\\n",
            "0  sepal length  Feature   Continuous        None   \n",
            "1   sepal width  Feature   Continuous        None   \n",
            "2  petal length  Feature   Continuous        None   \n",
            "3   petal width  Feature   Continuous        None   \n",
            "4         class   Target  Categorical        None   \n",
            "\n",
            "                                         description units missing_values  \n",
            "0                                               None    cm             no  \n",
            "1                                               None    cm             no  \n",
            "2                                               None    cm             no  \n",
            "3                                               None    cm             no  \n",
            "4  class of iris plant: Iris Setosa, Iris Versico...  None             no  \n"
          ]
        }
      ]
    },
    {
      "cell_type": "code",
      "source": [],
      "metadata": {
        "id": "bsBEkPnIHHZ4"
      },
      "execution_count": null,
      "outputs": []
    }
  ]
}