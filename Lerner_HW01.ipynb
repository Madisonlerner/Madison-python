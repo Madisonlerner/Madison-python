{
  "nbformat": 4,
  "nbformat_minor": 0,
  "metadata": {
    "colab": {
      "provenance": []
    },
    "kernelspec": {
      "name": "python3",
      "display_name": "Python 3"
    },
    "language_info": {
      "name": "python"
    }
  },
  "cells": [
    {
      "cell_type": "markdown",
      "source": [
        "# HW 01"
      ],
      "metadata": {
        "id": "JaguTAItuC48"
      }
    },
    {
      "cell_type": "markdown",
      "source": [
        "### Q1. Write a program to input your age and print whether you are more than or less than a billion seconds old."
      ],
      "metadata": {
        "id": "8N08oInsuN8g"
      }
    },
    {
      "cell_type": "code",
      "execution_count": 19,
      "metadata": {
        "id": "KlPvWPxRuCVz",
        "colab": {
          "base_uri": "https://localhost:8080/"
        },
        "outputId": "f8fb2a9b-d999-4868-8115-7dc80e7a5132"
      },
      "outputs": [
        {
          "output_type": "stream",
          "name": "stdout",
          "text": [
            "Enter your age in years: 21\n",
            "You are younger than a billion seconds.\n"
          ]
        }
      ],
      "source": [
        "\n",
        " def check_billion_seconds():\n",
        "    age_in_years = int(input(\"Enter your age in years: \"))\n",
        "    seconds_per_year= 31536000  # Approximate seconds in a year\n",
        "    total_seconds = age_in_years * seconds_per_year\n",
        "\n",
        "    if total_seconds > 1000000000:\n",
        "        print(\"You are older than a billion seconds!\")\n",
        "    else:\n",
        "        print(\"You are younger than a billion seconds.\")\n",
        "\n",
        "check_billion_seconds()\n",
        "\n"
      ]
    },
    {
      "cell_type": "markdown",
      "source": [
        "### Q2. Create a list with 10 names. Print each name with a Good morning greeting with the name using a conditional loop.\n",
        "\n",
        "For example\n",
        "\n",
        "`name = ['Ashley', 'Brianna', 'Chetan', 'David', 'Eoin', 'Francois', 'Gemma', 'Hameed', 'Ishaan', 'Joanna']`\n",
        "\n",
        "Outputs will be 'Good morning, Ashley', 'Good morning, Brianna', and so on."
      ],
      "metadata": {
        "id": "X3IPYLTgvnDh"
      }
    },
    {
      "cell_type": "code",
      "source": [
        "u = input('Enter Username: ').title()\n",
        "\n",
        "# Define the list of usernames\n",
        "usernames = ['Madison', 'Kelly', 'James', 'David', 'Matt', 'Haley', 'Lexi', 'Savannah', 'John', 'Kenzie']\n",
        "\n",
        "# Iterate through the list of usernames\n",
        "for user in usernames:\n",
        "    # Check if the input username is in the list and is 'Madison'\n",
        "    if u == user and u == 'Madison':\n",
        "        print('Good morning')\n",
        "        # If the username is in the list, print 'In list'\n",
        "        if u in usernames:\n",
        "            print('Good morning')\n",
        "    # If the username is not 'Madison' or not in the list, print 'Not in list'\n",
        "    else:\n",
        "        print('Good morning')\n",
        "\n"
      ],
      "metadata": {
        "id": "MFG2cvatvmr2",
        "colab": {
          "base_uri": "https://localhost:8080/"
        },
        "outputId": "e941e66c-87c4-4e9d-e39b-11c8f3397c82"
      },
      "execution_count": 22,
      "outputs": [
        {
          "output_type": "stream",
          "name": "stdout",
          "text": [
            "Enter Username: Madison\n",
            "Good morning\n",
            "Good morning\n",
            "Good morning\n",
            "Good morning\n",
            "Good morning\n",
            "Good morning\n",
            "Good morning\n",
            "Good morning\n",
            "Good morning\n",
            "Good morning\n",
            "Good morning\n"
          ]
        }
      ]
    },
    {
      "cell_type": "markdown",
      "source": [
        "### Q3. Create a list of 15 numbers. Print only those numbers that are divisible by 2."
      ],
      "metadata": {
        "id": "niM878Jrx1bf"
      }
    },
    {
      "cell_type": "code",
      "source": [
        "# Create a list of 15 numbers\n",
        "numbers = [1, 7, 8, 2, 15, 5, 16, 20, 25, 30, 14, 9, 22, 27, 19]\n",
        "\n",
        "# Print numbers divisible by 2\n",
        "print(\"Numbers divisible by 2:\")\n",
        "for num in numbers:\n",
        "    if num % 2 == 0:\n",
        "        print(num)\n",
        "\n"
      ],
      "metadata": {
        "id": "m7XjkMn8uUY2",
        "colab": {
          "base_uri": "https://localhost:8080/"
        },
        "outputId": "9f80c623-d2a7-47c0-91ec-db191d1b587b"
      },
      "execution_count": 23,
      "outputs": [
        {
          "output_type": "stream",
          "name": "stdout",
          "text": [
            "Numbers divisible by 2:\n",
            "8\n",
            "2\n",
            "16\n",
            "20\n",
            "30\n",
            "14\n",
            "22\n"
          ]
        }
      ]
    },
    {
      "cell_type": "markdown",
      "source": [
        "### Q4. Print the squared numbers of a list containing at least 10 numbers with a mix of float, integer, and negative numbers. Use the longer method as well as list comprehension.\n",
        "\n",
        "You can either generate your own list of 10 numbers or find use a random number generator."
      ],
      "metadata": {
        "id": "u1kyA9ksy_JI"
      }
    },
    {
      "cell_type": "code",
      "source": [
        "## Enter answer here.\n",
        "\n",
        "nums = [0,-1.25,15.86,-25]\n",
        "method1_squares = []\n",
        "\n",
        "for i in nums:\n",
        "    method1_squares.append(i**2)\n",
        "\n",
        "print(method1_squares)\n",
        "\n",
        "## Now method 2\n"
      ],
      "metadata": {
        "colab": {
          "base_uri": "https://localhost:8080/"
        },
        "id": "UFHMdDgEuUbD",
        "outputId": "bcf7da73-6d4f-4231-e4a0-97914045a24f"
      },
      "execution_count": 24,
      "outputs": [
        {
          "output_type": "stream",
          "name": "stdout",
          "text": [
            "[0, 1.5625, 251.53959999999998, 625]\n"
          ]
        }
      ]
    },
    {
      "cell_type": "markdown",
      "source": [
        "### Q5. Write a program to print a year if it is a leap year."
      ],
      "metadata": {
        "id": "0ZBlFovqA7G9"
      }
    },
    {
      "cell_type": "markdown",
      "source": [],
      "metadata": {
        "id": "OK1ctUfqA6mP"
      }
    },
    {
      "cell_type": "code",
      "source": [
        "year = int(input())\n",
        "\n",
        "if year%4 == 0:\n",
        "    print(year, \"is a leap year\")\n",
        "else:\n",
        "    print(year, \"is not a leap year\")"
      ],
      "metadata": {
        "id": "QwfOIh36uUeM",
        "colab": {
          "base_uri": "https://localhost:8080/"
        },
        "outputId": "c12c5363-2816-444c-882a-0ab28dba6f60"
      },
      "execution_count": 25,
      "outputs": [
        {
          "output_type": "stream",
          "name": "stdout",
          "text": [
            "2025\n",
            "2025 is not a leap year\n"
          ]
        }
      ]
    },
    {
      "cell_type": "markdown",
      "source": [
        "### Q6. Use list comprensions to print all names in a list in upper case."
      ],
      "metadata": {
        "id": "_FRSvLlgArOJ"
      }
    },
    {
      "cell_type": "code",
      "source": [
        "\n",
        ">>> [x.upper() for x in [\"madison\", \"kely\", \"john\"]]\n",
        "['Madison', 'Kellly', 'John']"
      ],
      "metadata": {
        "id": "CwPIZcFQuUhD",
        "colab": {
          "base_uri": "https://localhost:8080/"
        },
        "outputId": "5b775e5c-d326-48f6-ed6f-778616606bcc"
      },
      "execution_count": 27,
      "outputs": [
        {
          "output_type": "execute_result",
          "data": {
            "text/plain": [
              "['Madison', 'Kellly', 'John']"
            ]
          },
          "metadata": {},
          "execution_count": 27
        }
      ]
    },
    {
      "cell_type": "markdown",
      "source": [
        "### Q7. Question on NUMPY arrays:\n",
        "\n",
        "a. Create a numpy array called `original` with 100 random numbers. What is the largest number, smallest number, max, min, median, and standard deviation of your array? Print them.\n",
        "\n",
        "HINT: use `np.random.uniform()`. Check online for the correct syntax. `np.random.rand(100)` will give you 100 random numbers of uniform distribution with mean 0 and standard deviation of 1, while we want a mix of larger numbers/integers.\n",
        "\n",
        "b. Now create an array called `orig_sqrt` which contains the square roots of the numbers in the original array.\n",
        "\n",
        "### Q8.  Converting 1D arrays into 2D arrays.\n",
        "\n",
        "a. Convert your original array of 100 random numbers into a 2-dimensional array called `mat_array` with 20 rows and 5 columns. Print this array.\n",
        "\n",
        "b. What is the mean of every column in `mat_array`?\n",
        "\n",
        "c. What is the sum of every row? Create a list of 20 elements that contains the sum of every row in `mat_array`.\n",
        "\n",
        "d. Create the transpose of `mat_array` and call it `transpose_array`. What are the dimensions of this array now? Again, find the mean of each column and the sum of each row.\n",
        "\n",
        "### Q9. Array slicing:\n",
        "\n",
        "a. create a new array which contains the 3rd-10th rows and all columns of `mat_array`. Print.\n",
        "\n",
        "b. Print a new array which contains the the last 5 rows and the last 2 columns of `mat_array`. What is the dimension of this array?\n",
        "\n",
        "c. Print a new array which contains the first 3 rows and last 10 columns of `transpose_array`."
      ],
      "metadata": {
        "id": "ulp3oxOZHt5r"
      }
    },
    {
      "cell_type": "code",
      "source": [
        "import numpy as np\n",
        "\n",
        "# Create a numpy array with 100 random numbers\n",
        "original = np.random.rand(100)\n",
        "\n",
        "# Find the largest number\n",
        "largest = np.max(original)\n",
        "\n",
        "# Find the smallest number\n",
        "smallest = np.min(original)\n",
        "\n",
        "# Calculate the maximum value\n",
        "max_value = np.max(original)\n",
        "\n",
        "# Calculate the minimum value\n",
        "min_value = np.min(original)\n",
        "\n",
        "# Calculate the median\n",
        "median = np.median(original)\n",
        "\n",
        "# Calculate the standard deviation\n",
        "std_dev = np.std(original)\n",
        "\n",
        "# Print the results\n",
        "print(\"Largest number:\", largest)\n",
        "print(\"Smallest number:\", smallest)\n",
        "print(\"Max:\", max_value)\n",
        "print(\"Min:\", min_value)\n",
        "print(\"Median:\", median)\n",
        "print(\"Standard deviation:\", std_dev)\n",
        "\n"
      ],
      "metadata": {
        "id": "M6EBbfr7Iaas",
        "colab": {
          "base_uri": "https://localhost:8080/"
        },
        "outputId": "b2675380-e79f-4a9a-f292-b6d26a4b816e"
      },
      "execution_count": 28,
      "outputs": [
        {
          "output_type": "stream",
          "name": "stdout",
          "text": [
            "Largest number: 0.993512093700607\n",
            "Smallest number: 0.03492791613342283\n",
            "Max: 0.993512093700607\n",
            "Min: 0.03492791613342283\n",
            "Median: 0.47514631702520493\n",
            "Standard deviation: 0.2785582636265857\n"
          ]
        }
      ]
    },
    {
      "cell_type": "code",
      "source": [
        "import numpy as np\n",
        "\n",
        "original_array = np.array([4, 9, 16, 25])\n",
        "orig_sqrt = np.sqrt(original_array)\n",
        "\n",
        "print(orig_sqrt)"
      ],
      "metadata": {
        "id": "lJWRxuplJ1R-",
        "colab": {
          "base_uri": "https://localhost:8080/"
        },
        "outputId": "b1b9e56d-93f7-481d-edd4-78a66b11d1fa"
      },
      "execution_count": 29,
      "outputs": [
        {
          "output_type": "stream",
          "name": "stdout",
          "text": [
            "[2. 3. 4. 5.]\n"
          ]
        }
      ]
    },
    {
      "cell_type": "code",
      "source": [
        "import numpy as np\n",
        "\n",
        "# Create an array of 100 random numbers\n",
        "original_array = np.random.rand(100)\n",
        "\n",
        "# Reshape the array into a 2D array with 20 rows and 5 columns\n",
        "mat_array = original_array.reshape(20, 5)\n",
        "\n",
        "# Print the 2D array\n",
        "print(mat_array)"
      ],
      "metadata": {
        "id": "FDYDgwc1Lyy1",
        "colab": {
          "base_uri": "https://localhost:8080/"
        },
        "outputId": "abd5b005-e851-41d8-ef67-6f5bec8897bd"
      },
      "execution_count": 30,
      "outputs": [
        {
          "output_type": "stream",
          "name": "stdout",
          "text": [
            "[[0.42570989 0.19798062 0.44385734 0.96903186 0.4330495 ]\n",
            " [0.40022647 0.30314533 0.83857902 0.07206413 0.71740047]\n",
            " [0.70006166 0.27216687 0.91044821 0.3477295  0.57212198]\n",
            " [0.8800271  0.09453801 0.70959733 0.62202491 0.45127203]\n",
            " [0.27906317 0.0222222  0.8372167  0.32125054 0.14689196]\n",
            " [0.4395606  0.93057403 0.41723207 0.85086784 0.67659395]\n",
            " [0.5332104  0.75265195 0.01830458 0.36361341 0.17522661]\n",
            " [0.23835252 0.61377628 0.35246587 0.77473045 0.02117876]\n",
            " [0.32909597 0.00990511 0.28977354 0.88152329 0.09777841]\n",
            " [0.75978322 0.10185209 0.89327427 0.58210294 0.33864085]\n",
            " [0.52694746 0.10447907 0.10791967 0.61775922 0.25249348]\n",
            " [0.98451121 0.14738532 0.55302649 0.79167225 0.14355168]\n",
            " [0.20195277 0.01597355 0.97552642 0.47616653 0.40333633]\n",
            " [0.75428792 0.49141776 0.59970179 0.76051243 0.77683398]\n",
            " [0.71838429 0.16765539 0.74298169 0.53851365 0.91469096]\n",
            " [0.88637268 0.51703669 0.59380096 0.8713057  0.49207526]\n",
            " [0.67956264 0.25318685 0.59995076 0.89269903 0.40044449]\n",
            " [0.92300057 0.75124155 0.23289654 0.50176363 0.58941568]\n",
            " [0.77621929 0.93123594 0.35008446 0.18582699 0.38504901]\n",
            " [0.53228481 0.9653935  0.55199857 0.25528024 0.19830561]]\n"
          ]
        }
      ]
    },
    {
      "cell_type": "code",
      "source": [
        "import numpy as np\n",
        "\n",
        "# Assuming 'mat_array' was defined in a previous cell, execute that cell first.\n",
        "# If not, define it here:\n",
        "# original_array = np.random.rand(100)\n",
        "# mat_array = original_array.reshape(20, 5)\n",
        "\n",
        "# Calculate the mean of the first 2 elements of the 1st column\n",
        "result = mat_array[0][0:2].mean()  # Changed 'pmat_array' to 'mat_array'\n",
        "\n",
        "print(result) # Print the result"
      ],
      "metadata": {
        "id": "vyV9N3jpLyqP",
        "colab": {
          "base_uri": "https://localhost:8080/"
        },
        "outputId": "6ea6c963-fa06-4862-ec98-33c231e134f0"
      },
      "execution_count": 33,
      "outputs": [
        {
          "output_type": "stream",
          "name": "stdout",
          "text": [
            "0.3118452540158329\n"
          ]
        }
      ]
    },
    {
      "cell_type": "code",
      "source": [
        "import numpy as np\n",
        "\n",
        "# Assuming 'mat' is your 2D NumPy array\n",
        "mat = np.random.randint(1, 10, size=(20, 5))  # Example 20x5 array\n",
        "\n",
        "# Calculate the sum of each row\n",
        "row_sums = mat.sum(axis=1)\n",
        "\n",
        "# Create a list from the row sums\n",
        "row_sum_list = row_sums.tolist()\n",
        "\n",
        "print(row_sum_list)"
      ],
      "metadata": {
        "id": "at-4INjLLyei",
        "colab": {
          "base_uri": "https://localhost:8080/"
        },
        "outputId": "189742fa-61f9-4842-c706-60a8fc4ac3ee"
      },
      "execution_count": 34,
      "outputs": [
        {
          "output_type": "stream",
          "name": "stdout",
          "text": [
            "[28, 22, 21, 34, 24, 29, 29, 23, 23, 30, 19, 16, 19, 17, 40, 32, 19, 28, 19, 21]\n"
          ]
        }
      ]
    },
    {
      "cell_type": "code",
      "source": [
        "import numpy as np\n",
        "\n",
        "arr1 = np.array([[1, 2, 3], [4, 5, 6]])\n",
        "\n",
        "print(f'Original Array:\\n{arr1}')\n",
        "\n",
        "arr1_transpose = arr1.transpose()\n",
        "\n",
        "print(f'Transposed Array:\\n{arr1_transpose}')"
      ],
      "metadata": {
        "colab": {
          "base_uri": "https://localhost:8080/"
        },
        "id": "mq5vuMozDapt",
        "outputId": "0e3a34cd-85d2-4bb2-f08a-132e4df67cd3"
      },
      "execution_count": 35,
      "outputs": [
        {
          "output_type": "stream",
          "name": "stdout",
          "text": [
            "Original Array:\n",
            "[[1 2 3]\n",
            " [4 5 6]]\n",
            "Transposed Array:\n",
            "[[1 4]\n",
            " [2 5]\n",
            " [3 6]]\n"
          ]
        }
      ]
    },
    {
      "cell_type": "code",
      "source": [
        "import numpy as np\n",
        "a = np.array([[1,2,6],[4,5,8],[8,3,5],[6,5,4]])\n",
        "#Print first column\n",
        "print(a[:,0])\n",
        "#Print second row\n",
        "print(a[1,:])"
      ],
      "metadata": {
        "colab": {
          "base_uri": "https://localhost:8080/"
        },
        "id": "U9GR3GQsDahY",
        "outputId": "e245c727-e8e8-4e13-8bbe-1f43d5c6b557"
      },
      "execution_count": 36,
      "outputs": [
        {
          "output_type": "stream",
          "name": "stdout",
          "text": [
            "[1 4 8 6]\n",
            "[4 5 8]\n"
          ]
        }
      ]
    },
    {
      "cell_type": "code",
      "source": [
        "import numpy as np\n",
        "\n",
        "# Assuming mat_array is a 2D numpy array\n",
        "def get_last_rows_cols(mat_array):\n",
        "    num_rows, num_cols = mat_array.shape\n",
        "\n",
        "    # Slice the last 5 rows and last 2 columns\n",
        "    new_array = mat_array[-5:, -2:]\n",
        "\n",
        "    print(\"New array:\", new_array)\n",
        "    print(\"Dimension:\", new_array.shape)\n",
        "\n",
        "    return new_array\n",
        "\n",
        "# Example usage:\n",
        "mat_array = np.random.randint(10, size=(10, 5))  # Create a sample array\n",
        "get_last_rows_cols(mat_array)"
      ],
      "metadata": {
        "colab": {
          "base_uri": "https://localhost:8080/"
        },
        "id": "BOewCE2yDaWe",
        "outputId": "9c168f3a-2824-402e-dfdb-14d8a5aac3c6"
      },
      "execution_count": 37,
      "outputs": [
        {
          "output_type": "stream",
          "name": "stdout",
          "text": [
            "New array: [[9 6]\n",
            " [0 3]\n",
            " [2 8]\n",
            " [1 4]\n",
            " [6 3]]\n",
            "Dimension: (5, 2)\n"
          ]
        },
        {
          "output_type": "execute_result",
          "data": {
            "text/plain": [
              "array([[9, 6],\n",
              "       [0, 3],\n",
              "       [2, 8],\n",
              "       [1, 4],\n",
              "       [6, 3]])"
            ]
          },
          "metadata": {},
          "execution_count": 37
        }
      ]
    },
    {
      "cell_type": "code",
      "source": [
        "import numpy as np\n",
        "\n",
        "# Create a sample array\n",
        "array = np.array([[1, 2, 3, 4, 5, 6],\n",
        "                   [7, 8, 9, 10, 11, 12],\n",
        "                   [13, 14, 15, 16, 17, 18],\n",
        "                   [19, 20, 21, 22, 23, 24]])\n",
        "\n",
        "# Transpose the array\n",
        "transposed_array = array.T\n",
        "\n",
        "# Extract the desired portion\n",
        "new_array = transposed_array[:3, -10:]\n",
        "\n",
        "print(new_array)"
      ],
      "metadata": {
        "colab": {
          "base_uri": "https://localhost:8080/"
        },
        "id": "ojYyaxBIDaGJ",
        "outputId": "4e450da1-ccb9-4a6f-bb9c-bdc506f1ae75"
      },
      "execution_count": 38,
      "outputs": [
        {
          "output_type": "stream",
          "name": "stdout",
          "text": [
            "[[ 1  7 13 19]\n",
            " [ 2  8 14 20]\n",
            " [ 3  9 15 21]]\n"
          ]
        }
      ]
    },
    {
      "cell_type": "markdown",
      "source": [
        "### Q10. Assume you are inviting 15 friends to your party. You guest list has the following dietary preference.\n",
        "\n",
        "`diet = ['vegetarian', 'pescetarian', 'vegetarian', 'omnivore', 'pescetarian', 'keto', 'keto', 'vegan', 'omnivore', 'omnivore', 'vegan', 'omnivore', 'keto, 'vegetarian', 'vegan']`\n",
        "\n",
        "Their ages are as follows:\n",
        "\n",
        "`age = [21, 20, 19, 25, 27, 18, 23, 25, 19, 22, 20, 20, 23, 21, 24]`\n",
        "\n",
        "Create a list called `menu` which will contain 'veg. fried rice with whiskey' for vegans and vegetarians aged 21 and above,  'veg. fried rice with mocktail' for vegans and vegetarians aged below 21. Follow the same logic and assign fish and white wine to pescetarians of legal age (and fish with mocktail to those below 21). Keto and omnivore guests above 21 will have 'steak and red wine'. Complete the series with the appropriate drink for underage guests."
      ],
      "metadata": {
        "id": "cIhCARNRLzKy"
      }
    },
    {
      "cell_type": "code",
      "source": [
        "diet = ['vegetarian', 'pescetarian', 'vegetarian', 'omnivore', 'pescetarian', 'keto', 'keto', 'vegan', 'omnivore', 'omnivore', 'vegan', 'omnivore', 'keto', 'vegetarian', 'vegan']\n",
        "age = [21, 20, 19, 25, 27, 18, 23, 25, 19, 22, 20, 20, 23, 21, 24]\n",
        "\n",
        "menu = []\n",
        "for i in range(len(diet)):\n",
        "    if diet[i] in ['vegetarian', 'vegan']:\n",
        "        if age[i] >= 21:\n",
        "            menu.append('veg. fried rice with whiskey')\n",
        "        else:\n",
        "            menu.append('veg. fried rice with mocktail')\n",
        "    elif diet[i] == 'pescetarian':\n",
        "        if age[i] >= 21:\n",
        "            menu.append('fish and white wine')\n",
        "        else:\n",
        "            menu.append('fish with mocktail')\n",
        "    elif diet[i] in ['keto', 'omnivore']:\n",
        "        if age[i] >= 21:\n",
        "            menu.append('steak and red wine')\n",
        "        else:\n",
        "            menu.append('steak with coke')  # Assuming coke for underage keto/omnivores\n",
        "\n",
        "print(menu)\n",
        "\n"
      ],
      "metadata": {
        "id": "P7Xuiz6JOR5_",
        "colab": {
          "base_uri": "https://localhost:8080/"
        },
        "outputId": "cdf58698-d800-4ebd-8a92-d0f526d331e7"
      },
      "execution_count": 39,
      "outputs": [
        {
          "output_type": "stream",
          "name": "stdout",
          "text": [
            "['veg. fried rice with whiskey', 'fish with mocktail', 'veg. fried rice with mocktail', 'steak and red wine', 'fish and white wine', 'steak with coke', 'steak and red wine', 'veg. fried rice with whiskey', 'steak with coke', 'steak and red wine', 'veg. fried rice with mocktail', 'steak with coke', 'steak and red wine', 'veg. fried rice with whiskey', 'veg. fried rice with whiskey']\n"
          ]
        }
      ]
    }
  ]
}